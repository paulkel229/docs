{
  "metadata": {
    "kernelspec": {
      "name": "python3",
      "display_name": "Python 3",
      "language": "python"
    },
    "language_info": {
      "name": "python",
      "version": "3.10.14",
      "mimetype": "text/x-python",
      "codemirror_mode": {
        "name": "ipython",
        "version": 3
      },
      "pygments_lexer": "ipython3",
      "nbconvert_exporter": "python",
      "file_extension": ".py"
    },
    "kaggle": {
      "accelerator": "none",
      "dataSources": [
        {
          "sourceId": 8356547,
          "sourceType": "datasetVersion",
          "datasetId": 3934836
        }
      ],
      "dockerImageVersionId": 30761,
      "isInternetEnabled": true,
      "language": "python",
      "sourceType": "notebook",
      "isGpuEnabled": false
    },
    "colab": {
      "name": "analysis healthcare dataset",
      "provenance": [],
      "include_colab_link": true
    }
  },
  "nbformat_minor": 0,
  "nbformat": 4,
  "cells": [
    {
      "cell_type": "markdown",
      "metadata": {
        "id": "view-in-github",
        "colab_type": "text"
      },
      "source": [
        "<a href=\"https://colab.research.google.com/github/paulkel229/docs/blob/main/analysis_healthcare_dataset.ipynb\" target=\"_parent\"><img src=\"https://colab.research.google.com/assets/colab-badge.svg\" alt=\"Open In Colab\"/></a>"
      ]
    },
    {
      "source": [
        "\n",
        "# IMPORTANT: RUN THIS CELL IN ORDER TO IMPORT YOUR KAGGLE DATA SOURCES\n",
        "# TO THE CORRECT LOCATION (/kaggle/input) IN YOUR NOTEBOOK,\n",
        "# THEN FEEL FREE TO DELETE THIS CELL.\n",
        "# NOTE: THIS NOTEBOOK ENVIRONMENT DIFFERS FROM KAGGLE'S PYTHON\n",
        "# ENVIRONMENT SO THERE MAY BE MISSING LIBRARIES USED BY YOUR\n",
        "# NOTEBOOK.\n",
        "\n",
        "import os\n",
        "import sys\n",
        "from tempfile import NamedTemporaryFile\n",
        "from urllib.request import urlopen\n",
        "from urllib.parse import unquote, urlparse\n",
        "from urllib.error import HTTPError\n",
        "from zipfile import ZipFile\n",
        "import tarfile\n",
        "import shutil\n",
        "\n",
        "CHUNK_SIZE = 40960\n",
        "DATA_SOURCE_MAPPING = 'healthcare-dataset:https%3A%2F%2Fstorage.googleapis.com%2Fkaggle-data-sets%2F3934836%2F8356547%2Fbundle%2Farchive.zip%3FX-Goog-Algorithm%3DGOOG4-RSA-SHA256%26X-Goog-Credential%3Dgcp-kaggle-com%2540kaggle-161607.iam.gserviceaccount.com%252F20240913%252Fauto%252Fstorage%252Fgoog4_request%26X-Goog-Date%3D20240913T130119Z%26X-Goog-Expires%3D259200%26X-Goog-SignedHeaders%3Dhost%26X-Goog-Signature%3Dac122c2e09a017e4a2a7ef91b47eac5381ea3155cc9b95b6c8152d367bae27883a92d547976c68113ef7e2a107a12b28a07480948ba64d92f00e1f0bcce0e80631163eb4f05b0c0288762474df743bb6eb3990cecafdb427a18d622bb72c1a0d41ac1e525d9b0a051e632a9e0b86092caf410d8b220b6a88a570f0323230253fc41fc90c25c08b44f19f10e39f1b6fa2139ec55a82febc03c1a482ce50e4cc8e72f73d96a20ea747c0b2547f4170adb2c58e756acd48470b2b083a7721eb33b222b9036511ff5c6f10eb6622abf12dcba52794dfd851b6d0e1b5d4430fdeefcb70e98108e0076f3d6655959e6b0fc052c95b734e281fc0aa495d8ba46da968cf'\n",
        "\n",
        "KAGGLE_INPUT_PATH='/kaggle/input'\n",
        "KAGGLE_WORKING_PATH='/kaggle/working'\n",
        "KAGGLE_SYMLINK='kaggle'\n",
        "\n",
        "!umount /kaggle/input/ 2> /dev/null\n",
        "shutil.rmtree('/kaggle/input', ignore_errors=True)\n",
        "os.makedirs(KAGGLE_INPUT_PATH, 0o777, exist_ok=True)\n",
        "os.makedirs(KAGGLE_WORKING_PATH, 0o777, exist_ok=True)\n",
        "\n",
        "try:\n",
        "  os.symlink(KAGGLE_INPUT_PATH, os.path.join(\"..\", 'input'), target_is_directory=True)\n",
        "except FileExistsError:\n",
        "  pass\n",
        "try:\n",
        "  os.symlink(KAGGLE_WORKING_PATH, os.path.join(\"..\", 'working'), target_is_directory=True)\n",
        "except FileExistsError:\n",
        "  pass\n",
        "\n",
        "for data_source_mapping in DATA_SOURCE_MAPPING.split(','):\n",
        "    directory, download_url_encoded = data_source_mapping.split(':')\n",
        "    download_url = unquote(download_url_encoded)\n",
        "    filename = urlparse(download_url).path\n",
        "    destination_path = os.path.join(KAGGLE_INPUT_PATH, directory)\n",
        "    try:\n",
        "        with urlopen(download_url) as fileres, NamedTemporaryFile() as tfile:\n",
        "            total_length = fileres.headers['content-length']\n",
        "            print(f'Downloading {directory}, {total_length} bytes compressed')\n",
        "            dl = 0\n",
        "            data = fileres.read(CHUNK_SIZE)\n",
        "            while len(data) > 0:\n",
        "                dl += len(data)\n",
        "                tfile.write(data)\n",
        "                done = int(50 * dl / int(total_length))\n",
        "                sys.stdout.write(f\"\\r[{'=' * done}{' ' * (50-done)}] {dl} bytes downloaded\")\n",
        "                sys.stdout.flush()\n",
        "                data = fileres.read(CHUNK_SIZE)\n",
        "            if filename.endswith('.zip'):\n",
        "              with ZipFile(tfile) as zfile:\n",
        "                zfile.extractall(destination_path)\n",
        "            else:\n",
        "              with tarfile.open(tfile.name) as tarfile:\n",
        "                tarfile.extractall(destination_path)\n",
        "            print(f'\\nDownloaded and uncompressed: {directory}')\n",
        "    except HTTPError as e:\n",
        "        print(f'Failed to load (likely expired) {download_url} to path {destination_path}')\n",
        "        continue\n",
        "    except OSError as e:\n",
        "        print(f'Failed to load {download_url} to path {destination_path}')\n",
        "        continue\n",
        "\n",
        "print('Data source import complete.')\n"
      ],
      "metadata": {
        "id": "8vIYXzZceWEO"
      },
      "cell_type": "code",
      "outputs": [],
      "execution_count": null
    },
    {
      "cell_type": "code",
      "source": [
        "import pandas as pd\n",
        "import numpy as np\n",
        "import matplotlib.pyplot as plt\n",
        "import seaborn as sns"
      ],
      "metadata": {
        "execution": {
          "iopub.status.busy": "2024-08-24T22:33:44.902544Z",
          "iopub.execute_input": "2024-08-24T22:33:44.903246Z",
          "iopub.status.idle": "2024-08-24T22:33:44.908281Z",
          "shell.execute_reply.started": "2024-08-24T22:33:44.903187Z",
          "shell.execute_reply": "2024-08-24T22:33:44.907178Z"
        },
        "trusted": true,
        "id": "pZNBSf6beWEa"
      },
      "execution_count": null,
      "outputs": []
    },
    {
      "cell_type": "code",
      "source": [
        "df=pd.read_csv(\"/kaggle/input/healthcare-dataset/healthcare_dataset.csv\")"
      ],
      "metadata": {
        "scrolled": true,
        "execution": {
          "iopub.status.busy": "2024-08-24T22:33:44.910179Z",
          "iopub.execute_input": "2024-08-24T22:33:44.910655Z",
          "iopub.status.idle": "2024-08-24T22:33:45.181674Z",
          "shell.execute_reply.started": "2024-08-24T22:33:44.910619Z",
          "shell.execute_reply": "2024-08-24T22:33:45.180689Z"
        },
        "trusted": true,
        "id": "g5cQO5-aeWEb"
      },
      "execution_count": null,
      "outputs": []
    },
    {
      "cell_type": "code",
      "source": [
        "df"
      ],
      "metadata": {
        "execution": {
          "iopub.status.busy": "2024-08-24T22:33:45.182969Z",
          "iopub.execute_input": "2024-08-24T22:33:45.183297Z",
          "iopub.status.idle": "2024-08-24T22:33:45.204492Z",
          "shell.execute_reply.started": "2024-08-24T22:33:45.183264Z",
          "shell.execute_reply": "2024-08-24T22:33:45.203446Z"
        },
        "trusted": true,
        "id": "RNaP4apkeWEd"
      },
      "execution_count": null,
      "outputs": []
    },
    {
      "cell_type": "code",
      "source": [
        "df.info()"
      ],
      "metadata": {
        "execution": {
          "iopub.status.busy": "2024-08-24T22:33:45.205877Z",
          "iopub.execute_input": "2024-08-24T22:33:45.206237Z",
          "iopub.status.idle": "2024-08-24T22:33:45.253087Z",
          "shell.execute_reply.started": "2024-08-24T22:33:45.206179Z",
          "shell.execute_reply": "2024-08-24T22:33:45.252041Z"
        },
        "trusted": true,
        "id": "pgRyoMFveWEe"
      },
      "execution_count": null,
      "outputs": []
    },
    {
      "cell_type": "code",
      "source": [
        "df.isna().sum()"
      ],
      "metadata": {
        "execution": {
          "iopub.status.busy": "2024-08-24T22:33:45.255643Z",
          "iopub.execute_input": "2024-08-24T22:33:45.256008Z",
          "iopub.status.idle": "2024-08-24T22:33:45.296505Z",
          "shell.execute_reply.started": "2024-08-24T22:33:45.255973Z",
          "shell.execute_reply": "2024-08-24T22:33:45.295357Z"
        },
        "trusted": true,
        "id": "Cwp_0uYkeWEg"
      },
      "execution_count": null,
      "outputs": []
    },
    {
      "cell_type": "code",
      "source": [
        "df.duplicated().sum()"
      ],
      "metadata": {
        "execution": {
          "iopub.status.busy": "2024-08-24T22:33:45.298014Z",
          "iopub.execute_input": "2024-08-24T22:33:45.298946Z",
          "iopub.status.idle": "2024-08-24T22:33:45.381929Z",
          "shell.execute_reply.started": "2024-08-24T22:33:45.298893Z",
          "shell.execute_reply": "2024-08-24T22:33:45.380854Z"
        },
        "trusted": true,
        "id": "iHD00B3VeWEi"
      },
      "execution_count": null,
      "outputs": []
    },
    {
      "cell_type": "code",
      "source": [
        "duplicate_rows = df[df.duplicated()].sort_values(by=\"Name\")\n",
        "duplicate_rows"
      ],
      "metadata": {
        "execution": {
          "iopub.status.busy": "2024-08-24T22:33:45.383329Z",
          "iopub.execute_input": "2024-08-24T22:33:45.383768Z",
          "iopub.status.idle": "2024-08-24T22:33:45.480073Z",
          "shell.execute_reply.started": "2024-08-24T22:33:45.383708Z",
          "shell.execute_reply": "2024-08-24T22:33:45.478959Z"
        },
        "trusted": true,
        "id": "UX0YdcGEeWEj"
      },
      "execution_count": null,
      "outputs": []
    },
    {
      "cell_type": "code",
      "source": [
        "df.drop_duplicates(inplace=True)"
      ],
      "metadata": {
        "execution": {
          "iopub.status.busy": "2024-08-24T22:33:45.481343Z",
          "iopub.execute_input": "2024-08-24T22:33:45.481677Z",
          "iopub.status.idle": "2024-08-24T22:33:45.576526Z",
          "shell.execute_reply.started": "2024-08-24T22:33:45.481625Z",
          "shell.execute_reply": "2024-08-24T22:33:45.575421Z"
        },
        "trusted": true,
        "id": "7-c_pnGWeWEl"
      },
      "execution_count": null,
      "outputs": []
    },
    {
      "cell_type": "code",
      "source": [
        "df.info()"
      ],
      "metadata": {
        "execution": {
          "iopub.status.busy": "2024-08-24T22:33:45.577978Z",
          "iopub.execute_input": "2024-08-24T22:33:45.578343Z",
          "iopub.status.idle": "2024-08-24T22:33:45.625369Z",
          "shell.execute_reply.started": "2024-08-24T22:33:45.578308Z",
          "shell.execute_reply": "2024-08-24T22:33:45.624283Z"
        },
        "trusted": true,
        "id": "q_khdQnGeWEp"
      },
      "execution_count": null,
      "outputs": []
    },
    {
      "cell_type": "markdown",
      "source": [
        "# object description"
      ],
      "metadata": {
        "id": "0PWE6jAJeWEr"
      }
    },
    {
      "cell_type": "code",
      "source": [
        "df.describe(include=['O'])"
      ],
      "metadata": {
        "execution": {
          "iopub.status.busy": "2024-08-24T22:33:45.626927Z",
          "iopub.execute_input": "2024-08-24T22:33:45.627381Z",
          "iopub.status.idle": "2024-08-24T22:33:45.79882Z",
          "shell.execute_reply.started": "2024-08-24T22:33:45.627335Z",
          "shell.execute_reply": "2024-08-24T22:33:45.797601Z"
        },
        "trusted": true,
        "id": "z2jxdGzWeWE0"
      },
      "execution_count": null,
      "outputs": []
    },
    {
      "cell_type": "markdown",
      "source": [
        "# Static Description"
      ],
      "metadata": {
        "id": "hLFbDC6seWFF"
      }
    },
    {
      "cell_type": "code",
      "source": [
        "df.describe()"
      ],
      "metadata": {
        "execution": {
          "iopub.status.busy": "2024-08-24T22:33:45.800162Z",
          "iopub.execute_input": "2024-08-24T22:33:45.800518Z",
          "iopub.status.idle": "2024-08-24T22:33:45.827193Z",
          "shell.execute_reply.started": "2024-08-24T22:33:45.800481Z",
          "shell.execute_reply": "2024-08-24T22:33:45.826172Z"
        },
        "trusted": true,
        "id": "M2G4xif8eWFG"
      },
      "execution_count": null,
      "outputs": []
    },
    {
      "cell_type": "markdown",
      "source": [
        "# histogram of Ages"
      ],
      "metadata": {
        "id": "3eM1z_L3eWFI"
      }
    },
    {
      "cell_type": "code",
      "source": [
        "df.Age.hist(edgecolor=\"White\", figsize=(5,3),grid=False , color=\"#80C4E9\")"
      ],
      "metadata": {
        "execution": {
          "iopub.status.busy": "2024-08-24T22:33:45.828428Z",
          "iopub.execute_input": "2024-08-24T22:33:45.828745Z",
          "iopub.status.idle": "2024-08-24T22:33:46.196261Z",
          "shell.execute_reply.started": "2024-08-24T22:33:45.828713Z",
          "shell.execute_reply": "2024-08-24T22:33:46.195258Z"
        },
        "trusted": true,
        "id": "-qqSVzn0eWFJ"
      },
      "execution_count": null,
      "outputs": []
    },
    {
      "cell_type": "markdown",
      "source": [
        "# What is the distribution of test results in the data ?\n",
        "## (or) What is the status of the patients based on the test results?"
      ],
      "metadata": {
        "id": "rfCAy9aVeWFK"
      }
    },
    {
      "cell_type": "code",
      "source": [
        "colors = plt.get_cmap('Pastel1_r').colors\n",
        "df[\"Test Results\"].value_counts().plot(kind='pie', autopct='%1.1f%%', figsize=(7,5), title='Distribution of Test Results', explode=(0.11,0, 0) , shadow=True , colors=colors)\n",
        "plt.show()"
      ],
      "metadata": {
        "execution": {
          "iopub.status.busy": "2024-08-24T22:33:46.197717Z",
          "iopub.execute_input": "2024-08-24T22:33:46.198061Z",
          "iopub.status.idle": "2024-08-24T22:33:46.365507Z",
          "shell.execute_reply.started": "2024-08-24T22:33:46.198027Z",
          "shell.execute_reply": "2024-08-24T22:33:46.364277Z"
        },
        "trusted": true,
        "id": "DxH8IqlyeWFR"
      },
      "execution_count": null,
      "outputs": []
    },
    {
      "cell_type": "markdown",
      "source": [
        "# What is the percentage of each gender in the data?"
      ],
      "metadata": {
        "id": "b_YhUGQoeWFR"
      }
    },
    {
      "cell_type": "code",
      "source": [
        "df[\"Gender\"].value_counts(normalize=True)*100"
      ],
      "metadata": {
        "execution": {
          "iopub.status.busy": "2024-08-24T22:33:46.370983Z",
          "iopub.execute_input": "2024-08-24T22:33:46.372394Z",
          "iopub.status.idle": "2024-08-24T22:33:46.390992Z",
          "shell.execute_reply.started": "2024-08-24T22:33:46.372331Z",
          "shell.execute_reply": "2024-08-24T22:33:46.38958Z"
        },
        "trusted": true,
        "id": "KRqM4hQreWFS"
      },
      "execution_count": null,
      "outputs": []
    },
    {
      "cell_type": "markdown",
      "source": [
        "# distribute of blood type"
      ],
      "metadata": {
        "id": "MA2-AOxueWFT"
      }
    },
    {
      "cell_type": "code",
      "source": [
        "df[\"Blood Type\"].value_counts()"
      ],
      "metadata": {
        "execution": {
          "iopub.status.busy": "2024-08-24T22:33:46.39292Z",
          "iopub.execute_input": "2024-08-24T22:33:46.393731Z",
          "iopub.status.idle": "2024-08-24T22:33:46.411983Z",
          "shell.execute_reply.started": "2024-08-24T22:33:46.393669Z",
          "shell.execute_reply": "2024-08-24T22:33:46.410858Z"
        },
        "trusted": true,
        "id": "aCmuitlueWFU"
      },
      "execution_count": null,
      "outputs": []
    },
    {
      "cell_type": "markdown",
      "source": [
        "# What is the gender distribution of blood types?\n",
        "## (or) What is the relation between blood type and Gender?"
      ],
      "metadata": {
        "id": "XiVs_vOTeWFV"
      }
    },
    {
      "cell_type": "code",
      "source": [
        "df.groupby([\"Gender\"])[\"Blood Type\"].value_counts()"
      ],
      "metadata": {
        "execution": {
          "iopub.status.busy": "2024-08-24T22:33:46.413641Z",
          "iopub.execute_input": "2024-08-24T22:33:46.414743Z",
          "iopub.status.idle": "2024-08-24T22:33:46.438638Z",
          "shell.execute_reply.started": "2024-08-24T22:33:46.414688Z",
          "shell.execute_reply": "2024-08-24T22:33:46.437505Z"
        },
        "trusted": true,
        "id": "nt_Xd7wHeWFW"
      },
      "execution_count": null,
      "outputs": []
    },
    {
      "cell_type": "markdown",
      "source": [
        "## ❄️❄️ A+ , O+ , O- high for women ❄️❄️"
      ],
      "metadata": {
        "id": "EGqyWhKIeWFX"
      }
    },
    {
      "cell_type": "markdown",
      "source": [
        "# What is the distribution of medical conditions ?"
      ],
      "metadata": {
        "id": "pTNjtRP9eWFY"
      }
    },
    {
      "cell_type": "code",
      "source": [
        "df[\"Medical Condition\"].value_counts()"
      ],
      "metadata": {
        "execution": {
          "iopub.status.busy": "2024-08-24T22:33:46.440587Z",
          "iopub.execute_input": "2024-08-24T22:33:46.441024Z",
          "iopub.status.idle": "2024-08-24T22:33:46.452359Z",
          "shell.execute_reply.started": "2024-08-24T22:33:46.440976Z",
          "shell.execute_reply": "2024-08-24T22:33:46.451072Z"
        },
        "trusted": true,
        "id": "DHFeCnKTeWFZ"
      },
      "execution_count": null,
      "outputs": []
    },
    {
      "cell_type": "markdown",
      "source": [
        "# Which gender is more affected by the disease?"
      ],
      "metadata": {
        "id": "sthh8gDJeWFZ"
      }
    },
    {
      "cell_type": "code",
      "source": [
        "df.groupby([\"Medical Condition\"])[\"Gender\"].value_counts(normalize=True)*100"
      ],
      "metadata": {
        "execution": {
          "iopub.status.busy": "2024-08-24T22:33:46.454073Z",
          "iopub.execute_input": "2024-08-24T22:33:46.454944Z",
          "iopub.status.idle": "2024-08-24T22:33:46.479164Z",
          "shell.execute_reply.started": "2024-08-24T22:33:46.454906Z",
          "shell.execute_reply": "2024-08-24T22:33:46.478052Z"
        },
        "trusted": true,
        "id": "dvzaSNuqeWFa"
      },
      "execution_count": null,
      "outputs": []
    },
    {
      "cell_type": "markdown",
      "source": [
        "## What is the number of patients broken down by sex, medical condition, and blood type?\n",
        "## (or)How many male and female patients have a certain disease and have a certain blood type ?"
      ],
      "metadata": {
        "id": "CREnAveIeWFb"
      }
    },
    {
      "cell_type": "code",
      "source": [
        "grouped_df = df.groupby([\"Gender\", \"Medical Condition\", \"Blood Type\"]).count()[\"Name\"]\n",
        "sorted_df = grouped_df.unstack().sort_values(by=[\"Medical Condition\"], ascending=True)\n",
        "print(sorted_df)\n"
      ],
      "metadata": {
        "execution": {
          "iopub.status.busy": "2024-08-24T22:33:46.480639Z",
          "iopub.execute_input": "2024-08-24T22:33:46.481112Z",
          "iopub.status.idle": "2024-08-24T22:33:46.537007Z",
          "shell.execute_reply.started": "2024-08-24T22:33:46.481063Z",
          "shell.execute_reply": "2024-08-24T22:33:46.53598Z"
        },
        "trusted": true,
        "id": "R7xWltyleWFc"
      },
      "execution_count": null,
      "outputs": []
    },
    {
      "cell_type": "markdown",
      "source": [
        "![iiiii](C:\\Users\\UAS\\Desktop\\Image.png)"
      ],
      "metadata": {
        "id": "ztsfCARkeWFf"
      }
    },
    {
      "cell_type": "markdown",
      "source": [
        "# distribute Medication"
      ],
      "metadata": {
        "id": "rhyk-jtIeWFi"
      }
    },
    {
      "cell_type": "code",
      "source": [
        "medication_counts = df['Medication'].value_counts()\n",
        "print(\"Medication Counts:\\n\", medication_counts)"
      ],
      "metadata": {
        "execution": {
          "iopub.status.busy": "2024-08-24T22:33:46.538426Z",
          "iopub.execute_input": "2024-08-24T22:33:46.538859Z",
          "iopub.status.idle": "2024-08-24T22:33:46.548685Z",
          "shell.execute_reply.started": "2024-08-24T22:33:46.538814Z",
          "shell.execute_reply": "2024-08-24T22:33:46.547569Z"
        },
        "trusted": true,
        "id": "dg_9tus4eWFj"
      },
      "execution_count": null,
      "outputs": []
    },
    {
      "cell_type": "markdown",
      "source": [
        "# What is the distribution of medical conditions for each type of medication?\n",
        "# (or)The number of patients according to their Medical Condition who use these medicines ? and which Medication are use most for each medical conditions?¶"
      ],
      "metadata": {
        "id": "q1mgpL9MeWFk"
      }
    },
    {
      "cell_type": "code",
      "source": [
        "df.groupby(['Medication'])[\"Medical Condition\"].value_counts()"
      ],
      "metadata": {
        "execution": {
          "iopub.status.busy": "2024-08-24T22:33:46.550079Z",
          "iopub.execute_input": "2024-08-24T22:33:46.550418Z",
          "iopub.status.idle": "2024-08-24T22:33:46.578489Z",
          "shell.execute_reply.started": "2024-08-24T22:33:46.550384Z",
          "shell.execute_reply": "2024-08-24T22:33:46.577362Z"
        },
        "trusted": true,
        "id": "ooWNEZWLeWFl"
      },
      "execution_count": null,
      "outputs": []
    },
    {
      "cell_type": "markdown",
      "source": [
        "____\n",
        "## 1. Aspirin\n",
        "- **Arthritis:** Used to manage pain and inflammation.\n",
        "- **Cancer:** Some studies suggest it may lower the risk of certain cancers (e.g., colorectal cancer) due to its anti-inflammatory effects.\n",
        "- **Diabetes:** Often prescribed to individuals with diabetes to prevent cardiovascular complications.\n",
        "- **Obesity:** No direct link, but used to manage related pain or inflammation.\n",
        "- **Asthma:** Not typically recommended; can sometimes worsen asthma in sensitive individuals.\n",
        "- **Hypertension:** Used with caution as it can affect blood pressure.\n",
        "\n",
        "## 2. Ibuprofen\n",
        "- **Arthritis:** Commonly used to manage arthritis symptoms due to its anti-inflammatory properties.\n",
        "- **Cancer:** No direct evidence linking it to cancer risk, but its anti-inflammatory effects may have some indirect benefits.\n",
        "- **Diabetes:** Generally safe but should be used cautiously in people with kidney issues.\n",
        "- **Obesity:** No direct link; used for managing related pain.\n",
        "- **Asthma:** Can sometimes worsen asthma symptoms.\n",
        "- **Hypertension:** Should be used cautiously as it can increase blood pressure.\n",
        "\n",
        "## 3. Lipitor (Atorvastatin)\n",
        "- **Arthritis:** No direct link, but may help manage cardiovascular risk associated with arthritis.\n",
        "- **Cancer:** Some studies suggest it may have a protective effect against certain cancers, but evidence is inconclusive.\n",
        "- **Diabetes:** Can increase the risk of developing diabetes in some individuals.\n",
        "- **Obesity:** Not directly linked but may be used to manage cholesterol levels in obese individuals.\n",
        "- **Asthma:** No direct link.\n",
        "- **Hypertension:** Used to manage cardiovascular risk factors associated with hypertension.\n",
        "\n",
        "## 4. Paracetamol (Acetaminophen)\n",
        "- **Arthritis:** Used to manage pain, but does not have anti-inflammatory properties.\n",
        "- **Cancer:** No direct link; used for pain management.\n",
        "- **Diabetes:** Generally safe but should be used cautiously in high doses.\n",
        "- **Obesity:** No direct link; used for managing pain related to obesity.\n",
        "- **Asthma:** Safe for most people with asthma.\n",
        "- **Hypertension:** Safe for most people with hypertension.\n",
        "\n",
        "## 5. Penicillin\n",
        "- **Arthritis:** No direct link; used if an infection complicates arthritis.\n",
        "- **Cancer:** No direct link; used to treat infections.\n",
        "- **Diabetes:** Safe to use, but diabetic patients need to monitor for potential side effects.\n",
        "- **Obesity:** No direct link; used for infections.\n",
        "- **Asthma:** Generally safe but can cause allergic reactions in some individuals.\n",
        "- **Hypertension:** Safe for most individuals with hypertension.\n",
        "____\n"
      ],
      "metadata": {
        "id": "_aehntcXeWFl"
      }
    },
    {
      "cell_type": "code",
      "source": [
        "colors = plt.get_cmap('Pastel1').colors\n",
        "df[\"Admission Type\"].value_counts().plot(kind='pie', autopct='%1.1f%%', figsize=(10,5), title='Distribution of Admission Type', explode=(0.11,0, 0) , shadow=True , colors=colors)"
      ],
      "metadata": {
        "execution": {
          "iopub.status.busy": "2024-08-24T22:33:46.579921Z",
          "iopub.execute_input": "2024-08-24T22:33:46.580302Z",
          "iopub.status.idle": "2024-08-24T22:33:46.746396Z",
          "shell.execute_reply.started": "2024-08-24T22:33:46.580266Z",
          "shell.execute_reply": "2024-08-24T22:33:46.745211Z"
        },
        "trusted": true,
        "id": "2BfL_rd1eWFm"
      },
      "execution_count": null,
      "outputs": []
    },
    {
      "cell_type": "code",
      "source": [
        "df.groupby(df[\"Gender\"])[\"Admission Type\"].value_counts().unstack()"
      ],
      "metadata": {
        "execution": {
          "iopub.status.busy": "2024-08-24T22:33:46.747841Z",
          "iopub.execute_input": "2024-08-24T22:33:46.748612Z",
          "iopub.status.idle": "2024-08-24T22:33:46.775057Z",
          "shell.execute_reply.started": "2024-08-24T22:33:46.748562Z",
          "shell.execute_reply": "2024-08-24T22:33:46.773917Z"
        },
        "trusted": true,
        "id": "0YCiSLiYeWFn"
      },
      "execution_count": null,
      "outputs": []
    },
    {
      "cell_type": "code",
      "source": [
        "df.groupby([\"Admission Type\"])[\"Medication\"].value_counts()"
      ],
      "metadata": {
        "execution": {
          "iopub.status.busy": "2024-08-24T22:33:46.776667Z",
          "iopub.execute_input": "2024-08-24T22:33:46.777993Z",
          "iopub.status.idle": "2024-08-24T22:33:46.805254Z",
          "shell.execute_reply.started": "2024-08-24T22:33:46.777944Z",
          "shell.execute_reply": "2024-08-24T22:33:46.804082Z"
        },
        "trusted": true,
        "id": "sn3gTdhCeWFo"
      },
      "execution_count": null,
      "outputs": []
    },
    {
      "cell_type": "markdown",
      "source": [
        "## What medications are most commonly used for each medical condition within each type of admission?"
      ],
      "metadata": {
        "id": "2SMV35kneWFp"
      }
    },
    {
      "cell_type": "code",
      "source": [
        "grouped_df = df.groupby([\"Admission Type\", \"Medication\", \"Medical Condition\"]).count()[\"Name\"].unstack()\n",
        "grouped_df"
      ],
      "metadata": {
        "execution": {
          "iopub.status.busy": "2024-08-24T22:33:46.806942Z",
          "iopub.execute_input": "2024-08-24T22:33:46.807826Z",
          "iopub.status.idle": "2024-08-24T22:33:46.866379Z",
          "shell.execute_reply.started": "2024-08-24T22:33:46.807777Z",
          "shell.execute_reply": "2024-08-24T22:33:46.865317Z"
        },
        "trusted": true,
        "id": "LdM0v2apeWFq"
      },
      "execution_count": null,
      "outputs": []
    },
    {
      "cell_type": "markdown",
      "source": [
        "![image1](C:\\Users\\UAS\\Desktop\\image2.png)"
      ],
      "metadata": {
        "id": "8wi1pFdmeWFr"
      }
    },
    {
      "cell_type": "markdown",
      "source": [
        "# Static describtion for Billing Amount column"
      ],
      "metadata": {
        "id": "5XhQSeGgeWFs"
      }
    },
    {
      "cell_type": "code",
      "source": [
        "df[\"Billing Amount\"].describe()"
      ],
      "metadata": {
        "execution": {
          "iopub.status.busy": "2024-08-24T22:33:46.867808Z",
          "iopub.execute_input": "2024-08-24T22:33:46.868148Z",
          "iopub.status.idle": "2024-08-24T22:33:46.88262Z",
          "shell.execute_reply.started": "2024-08-24T22:33:46.868114Z",
          "shell.execute_reply": "2024-08-24T22:33:46.881282Z"
        },
        "trusted": true,
        "id": "O8X3_d7VeWFu"
      },
      "execution_count": null,
      "outputs": []
    },
    {
      "cell_type": "markdown",
      "source": [
        "## Row --> Max value of \"Billing Amount\""
      ],
      "metadata": {
        "id": "wL7KZp4zeWFw"
      }
    },
    {
      "cell_type": "code",
      "source": [
        "df[ df[\"Billing Amount\"] == df[\"Billing Amount\"].max() ]"
      ],
      "metadata": {
        "execution": {
          "iopub.status.busy": "2024-08-24T22:33:46.884073Z",
          "iopub.execute_input": "2024-08-24T22:33:46.884457Z",
          "iopub.status.idle": "2024-08-24T22:33:46.90562Z",
          "shell.execute_reply.started": "2024-08-24T22:33:46.88442Z",
          "shell.execute_reply": "2024-08-24T22:33:46.904571Z"
        },
        "trusted": true,
        "id": "3KbNpWwSeWFx"
      },
      "execution_count": null,
      "outputs": []
    },
    {
      "cell_type": "markdown",
      "source": [
        "## What are rows  that has negative values in Billing Amount column ?"
      ],
      "metadata": {
        "id": "PllWgqBkeWFz"
      }
    },
    {
      "cell_type": "code",
      "source": [
        "new_df = df[ df[\"Billing Amount\"] < 0 ]\n",
        "new_df"
      ],
      "metadata": {
        "execution": {
          "iopub.status.busy": "2024-08-24T22:33:46.906948Z",
          "iopub.execute_input": "2024-08-24T22:33:46.907293Z",
          "iopub.status.idle": "2024-08-24T22:33:46.928572Z",
          "shell.execute_reply.started": "2024-08-24T22:33:46.907258Z",
          "shell.execute_reply": "2024-08-24T22:33:46.927621Z"
        },
        "trusted": true,
        "id": "DqXrRbBOeWF0"
      },
      "execution_count": null,
      "outputs": []
    },
    {
      "cell_type": "markdown",
      "source": [
        "# 👉 *The reason Billing Amount has negative value may be:*\n",
        "## 1. Refund or Return:\n",
        "#### A negative number may indicate a refund to the customer. For example, if a customer returns a product and gets a refund, the invoice amount may be  recorded in negative to indicate that the amount has been deducted from the invoice or refunded.‎   \n",
        "## 2. Adjustment:\n",
        "#### Negative values may be used to correct past billing errors. If there is an error in a previous amount and it has been corrected, the correction amount may appear in negati\n",
        "## 3. Discounts:\n",
        "#### In some cases, discounts or discounts that are given to the customer can be recorded as negative amounts in the \"Billing Amount\" column.\n",
        "## 4. Credit:\n",
        "#### If the system allows accounts payable, a negative amount may be recorded to indicate that there is a credit balance in the customer's account, which means that they have prepaid funds or owe them a certain amount.\n",
        "## 5. Void or Cancellation:\n",
        "#### The negative amount can be the result of canceling an invoice or transaction after it has been issued, reversing the original amount.\n",
        "## 6. Administrative error:\n",
        "#### Sometimes, negative values can be the result of a data entry error or a system problem."
      ],
      "metadata": {
        "id": "cHQY-vVleWF1"
      }
    },
    {
      "cell_type": "markdown",
      "source": [
        "____\n",
        "# Add new column Duration of Stay (Days)"
      ],
      "metadata": {
        "id": "SLM3weBKeWF3"
      }
    },
    {
      "cell_type": "code",
      "source": [
        "df['Date of Admission'] = pd.to_datetime(df['Date of Admission'])\n",
        "df['Discharge Date'] = pd.to_datetime(df['Discharge Date'])\n",
        "df['Duration of Stay (Days)'] = (df['Discharge Date'] - df['Date of Admission']).dt.days\n",
        "df[['Date of Admission', 'Discharge Date', 'Duration of Stay (Days)']].head(10)"
      ],
      "metadata": {
        "execution": {
          "iopub.status.busy": "2024-08-24T22:33:46.935064Z",
          "iopub.execute_input": "2024-08-24T22:33:46.935497Z",
          "iopub.status.idle": "2024-08-24T22:33:46.977884Z",
          "shell.execute_reply.started": "2024-08-24T22:33:46.935455Z",
          "shell.execute_reply": "2024-08-24T22:33:46.976699Z"
        },
        "trusted": true,
        "id": "8Dm3X7EReWF5"
      },
      "execution_count": null,
      "outputs": []
    },
    {
      "cell_type": "code",
      "source": [
        "df"
      ],
      "metadata": {
        "execution": {
          "iopub.status.busy": "2024-08-24T22:33:46.97914Z",
          "iopub.execute_input": "2024-08-24T22:33:46.979533Z",
          "iopub.status.idle": "2024-08-24T22:33:47.001087Z",
          "shell.execute_reply.started": "2024-08-24T22:33:46.979498Z",
          "shell.execute_reply": "2024-08-24T22:33:47.000117Z"
        },
        "trusted": true,
        "id": "FzSzsM0MeWF7"
      },
      "execution_count": null,
      "outputs": []
    },
    {
      "cell_type": "markdown",
      "source": [
        "# static description after modification"
      ],
      "metadata": {
        "id": "ceZPosfLeWF8"
      }
    },
    {
      "cell_type": "code",
      "source": [
        "df.describe()"
      ],
      "metadata": {
        "execution": {
          "iopub.status.busy": "2024-08-24T22:33:47.002796Z",
          "iopub.execute_input": "2024-08-24T22:33:47.003147Z",
          "iopub.status.idle": "2024-08-24T22:33:47.045931Z",
          "shell.execute_reply.started": "2024-08-24T22:33:47.003113Z",
          "shell.execute_reply": "2024-08-24T22:33:47.044784Z"
        },
        "trusted": true,
        "id": "sjFTTkEqeWF9"
      },
      "execution_count": null,
      "outputs": []
    },
    {
      "cell_type": "markdown",
      "source": [
        "## ❄️❄️WE observe that data has information from  2019-05-08  to 2024-06-06 ❄️❄️"
      ],
      "metadata": {
        "id": "Z5NfKQLSeWGC"
      }
    },
    {
      "cell_type": "markdown",
      "source": [
        "## Data type new columon added ---> Duration of Stay (Days)"
      ],
      "metadata": {
        "id": "4LzGSUkueWGI"
      }
    },
    {
      "cell_type": "code",
      "source": [
        "df[\"Duration of Stay (Days)\"].dtype"
      ],
      "metadata": {
        "execution": {
          "iopub.status.busy": "2024-08-24T22:33:47.047689Z",
          "iopub.execute_input": "2024-08-24T22:33:47.048105Z",
          "iopub.status.idle": "2024-08-24T22:33:47.054905Z",
          "shell.execute_reply.started": "2024-08-24T22:33:47.048068Z",
          "shell.execute_reply": "2024-08-24T22:33:47.053782Z"
        },
        "trusted": true,
        "id": "fsWzNSafeWGJ"
      },
      "execution_count": null,
      "outputs": []
    },
    {
      "cell_type": "markdown",
      "source": [
        "# Max duration"
      ],
      "metadata": {
        "id": "mZr8_a6ieWGK"
      }
    },
    {
      "cell_type": "code",
      "source": [
        "df[\"Duration of Stay (Days)\"].max()"
      ],
      "metadata": {
        "execution": {
          "iopub.status.busy": "2024-08-24T22:33:47.056166Z",
          "iopub.execute_input": "2024-08-24T22:33:47.05653Z",
          "iopub.status.idle": "2024-08-24T22:33:47.068081Z",
          "shell.execute_reply.started": "2024-08-24T22:33:47.056497Z",
          "shell.execute_reply": "2024-08-24T22:33:47.067043Z"
        },
        "trusted": true,
        "id": "9ExQTxeIeWGL"
      },
      "execution_count": null,
      "outputs": []
    },
    {
      "cell_type": "markdown",
      "source": [
        "# New dataframe For paitent who stay max duration 30 day"
      ],
      "metadata": {
        "id": "ErrA_0fGeWGN"
      }
    },
    {
      "cell_type": "code",
      "source": [
        "new_df = df[ df[\"Duration of Stay (Days)\"] == df[\"Duration of Stay (Days)\"].max() ]\n",
        "new_df"
      ],
      "metadata": {
        "execution": {
          "iopub.status.busy": "2024-08-24T22:33:47.069702Z",
          "iopub.execute_input": "2024-08-24T22:33:47.070984Z",
          "iopub.status.idle": "2024-08-24T22:33:47.095796Z",
          "shell.execute_reply.started": "2024-08-24T22:33:47.070932Z",
          "shell.execute_reply": "2024-08-24T22:33:47.094729Z"
        },
        "trusted": true,
        "id": "RbQEOMUmeWGO"
      },
      "execution_count": null,
      "outputs": []
    },
    {
      "cell_type": "markdown",
      "source": [
        "# object description"
      ],
      "metadata": {
        "id": "WLJyX9RbeWGQ"
      }
    },
    {
      "cell_type": "code",
      "source": [
        "new_df.describe(include=['O'])"
      ],
      "metadata": {
        "execution": {
          "iopub.status.busy": "2024-08-24T22:33:47.097078Z",
          "iopub.execute_input": "2024-08-24T22:33:47.097445Z",
          "iopub.status.idle": "2024-08-24T22:33:47.134599Z",
          "shell.execute_reply.started": "2024-08-24T22:33:47.097403Z",
          "shell.execute_reply": "2024-08-24T22:33:47.133514Z"
        },
        "trusted": true,
        "id": "6OjlzJIHeWGR"
      },
      "execution_count": null,
      "outputs": []
    },
    {
      "cell_type": "markdown",
      "source": [
        "# Num people stay max durution"
      ],
      "metadata": {
        "id": "HE7b3og_eWGT"
      }
    },
    {
      "cell_type": "code",
      "source": [
        "print ( \"There is\" , new_df.shape[0]  , \"person stay\" ,  df[\"Duration of Stay (Days)\"].max())"
      ],
      "metadata": {
        "execution": {
          "iopub.status.busy": "2024-08-24T22:33:47.135874Z",
          "iopub.execute_input": "2024-08-24T22:33:47.136237Z",
          "iopub.status.idle": "2024-08-24T22:33:47.142384Z",
          "shell.execute_reply.started": "2024-08-24T22:33:47.136181Z",
          "shell.execute_reply": "2024-08-24T22:33:47.141392Z"
        },
        "trusted": true,
        "id": "XcAUHmyzeWGV"
      },
      "execution_count": null,
      "outputs": []
    },
    {
      "cell_type": "code",
      "source": [
        "plt.figure(figsize=(17, 8))\n",
        "n, bins, patches = plt.hist(new_df[\"Age\"], bins=30, edgecolor='black')\n",
        "cmap = plt.get_cmap('Blues')\n",
        "norm = plt.Normalize(vmin=min(bins), vmax=max(bins))\n",
        "\n",
        "for patch, bin_value in zip(patches, bins):\n",
        "    color = cmap(norm(bin_value))\n",
        "    patch.set_facecolor(color)\n",
        "\n",
        "plt.xticks(ticks=np.arange(0, new_df[\"Age\"].max(), step=5), fontsize=12)\n",
        "plt.xlabel(\"Age\", fontsize=14)\n",
        "plt.ylabel(\"Frequency\", fontsize=14)\n",
        "\n",
        "\n",
        "plt.show()\n"
      ],
      "metadata": {
        "execution": {
          "iopub.status.busy": "2024-08-24T22:33:47.143727Z",
          "iopub.execute_input": "2024-08-24T22:33:47.14405Z",
          "iopub.status.idle": "2024-08-24T22:33:47.453547Z",
          "shell.execute_reply.started": "2024-08-24T22:33:47.144017Z",
          "shell.execute_reply": "2024-08-24T22:33:47.452459Z"
        },
        "trusted": true,
        "id": "nCDkh8sceWGX"
      },
      "execution_count": null,
      "outputs": []
    },
    {
      "cell_type": "code",
      "source": [
        "plt.figure(figsize=(17, 8))\n",
        "cmap = plt.get_cmap('vlag_r')\n",
        "n, bins, patches = plt.hist(new_df[\"Billing Amount\"] , bins=30, edgecolor='black')\n",
        "norm = plt.Normalize(vmin=min(new_df[\"Billing Amount\"]), vmax=max(new_df[\"Billing Amount\"]))\n",
        "for bin, patch in zip(bins, patches):\n",
        "    color = cmap(norm(bin))\n",
        "    patch.set_facecolor(color)\n",
        "ticks = np.arange(0, new_df[\"Billing Amount\"].max(), step=5000)\n",
        "plt.xticks(ticks=ticks, fontsize=12)\n",
        "plt.xlabel(\"Billing Amount\", fontsize=14)\n",
        "plt.ylabel(\"Frequency\", fontsize=14)\n",
        "\n",
        "\n",
        "plt.show()\n"
      ],
      "metadata": {
        "execution": {
          "iopub.status.busy": "2024-08-24T22:33:47.455159Z",
          "iopub.execute_input": "2024-08-24T22:33:47.455719Z",
          "iopub.status.idle": "2024-08-24T22:33:47.7989Z",
          "shell.execute_reply.started": "2024-08-24T22:33:47.455661Z",
          "shell.execute_reply": "2024-08-24T22:33:47.797629Z"
        },
        "trusted": true,
        "id": "rTtmaEVLeWGZ"
      },
      "execution_count": null,
      "outputs": []
    },
    {
      "cell_type": "code",
      "source": [
        "colors = plt.get_cmap('Pastel1_r').colors\n",
        "new_df[\"Test Results\"].value_counts().plot(kind='pie', autopct='%1.1f%%', figsize=(15,5), title='Distribution of Test Results', explode=(0.11,0, 0) , shadow=True , colors=colors)\n",
        "plt.show()"
      ],
      "metadata": {
        "execution": {
          "iopub.status.busy": "2024-08-24T22:33:47.800293Z",
          "iopub.execute_input": "2024-08-24T22:33:47.800654Z",
          "iopub.status.idle": "2024-08-24T22:33:47.96745Z",
          "shell.execute_reply.started": "2024-08-24T22:33:47.800617Z",
          "shell.execute_reply": "2024-08-24T22:33:47.966131Z"
        },
        "trusted": true,
        "id": "i8S5HV2leWGb"
      },
      "execution_count": null,
      "outputs": []
    },
    {
      "cell_type": "code",
      "source": [
        "df[\"Duration of Stay (Days)\"].min()"
      ],
      "metadata": {
        "execution": {
          "iopub.status.busy": "2024-08-24T22:33:47.969147Z",
          "iopub.execute_input": "2024-08-24T22:33:47.970349Z",
          "iopub.status.idle": "2024-08-24T22:33:47.977783Z",
          "shell.execute_reply.started": "2024-08-24T22:33:47.970292Z",
          "shell.execute_reply": "2024-08-24T22:33:47.976714Z"
        },
        "trusted": true,
        "id": "a9VTMKQjeWGc"
      },
      "execution_count": null,
      "outputs": []
    },
    {
      "cell_type": "code",
      "source": [
        "new_df2 = df[ df[\"Duration of Stay (Days)\"] == df[\"Duration of Stay (Days)\"].min() ]\n",
        "new_df2"
      ],
      "metadata": {
        "execution": {
          "iopub.status.busy": "2024-08-24T22:33:47.979231Z",
          "iopub.execute_input": "2024-08-24T22:33:47.979891Z",
          "iopub.status.idle": "2024-08-24T22:33:48.022658Z",
          "shell.execute_reply.started": "2024-08-24T22:33:47.979843Z",
          "shell.execute_reply": "2024-08-24T22:33:48.021355Z"
        },
        "trusted": true,
        "id": "OuxCwJoseWGd"
      },
      "execution_count": null,
      "outputs": []
    },
    {
      "cell_type": "code",
      "source": [
        "print ( \"There is\" , new_df2.shape[0]  , \"person stay\" ,  df[\"Duration of Stay (Days)\"].min())"
      ],
      "metadata": {
        "execution": {
          "iopub.status.busy": "2024-08-24T22:33:48.024319Z",
          "iopub.execute_input": "2024-08-24T22:33:48.024972Z",
          "iopub.status.idle": "2024-08-24T22:33:48.033847Z",
          "shell.execute_reply.started": "2024-08-24T22:33:48.024925Z",
          "shell.execute_reply": "2024-08-24T22:33:48.032617Z"
        },
        "trusted": true,
        "id": "_9t992WPeWGe"
      },
      "execution_count": null,
      "outputs": []
    },
    {
      "cell_type": "code",
      "source": [],
      "metadata": {
        "id": "NZxOmnJJeWGf"
      },
      "execution_count": null,
      "outputs": []
    }
  ]
}