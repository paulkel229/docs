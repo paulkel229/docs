{
  "metadata": {
    "kernelspec": {
      "language": "python",
      "display_name": "Python 3",
      "name": "python3"
    },
    "language_info": {
      "pygments_lexer": "ipython3",
      "nbconvert_exporter": "python",
      "version": "3.6.4",
      "file_extension": ".py",
      "codemirror_mode": {
        "name": "ipython",
        "version": 3
      },
      "name": "python",
      "mimetype": "text/x-python"
    },
    "colab": {
      "name": "Mental Health (EDA + Prediction)",
      "provenance": [],
      "toc_visible": true,
      "include_colab_link": true
    }
  },
  "nbformat_minor": 0,
  "nbformat": 4,
  "cells": [
    {
      "cell_type": "markdown",
      "metadata": {
        "id": "view-in-github",
        "colab_type": "text"
      },
      "source": [
        "<a href=\"https://colab.research.google.com/github/paulkel229/docs/blob/main/Mental_Health_(EDA_%2B_Prediction).ipynb\" target=\"_parent\"><img src=\"https://colab.research.google.com/assets/colab-badge.svg\" alt=\"Open In Colab\"/></a>"
      ]
    },
    {
      "source": [
        "\n",
        "# IMPORTANT: RUN THIS CELL IN ORDER TO IMPORT YOUR KAGGLE DATA SOURCES\n",
        "# TO THE CORRECT LOCATION (/kaggle/input) IN YOUR NOTEBOOK,\n",
        "# THEN FEEL FREE TO DELETE THIS CELL.\n",
        "# NOTE: THIS NOTEBOOK ENVIRONMENT DIFFERS FROM KAGGLE'S PYTHON\n",
        "# ENVIRONMENT SO THERE MAY BE MISSING LIBRARIES USED BY YOUR\n",
        "# NOTEBOOK.\n",
        "\n",
        "import os\n",
        "import sys\n",
        "from tempfile import NamedTemporaryFile\n",
        "from urllib.request import urlopen\n",
        "from urllib.parse import unquote, urlparse\n",
        "from urllib.error import HTTPError\n",
        "from zipfile import ZipFile\n",
        "import tarfile\n",
        "import shutil\n",
        "\n",
        "CHUNK_SIZE = 40960\n",
        "DATA_SOURCE_MAPPING = 'mental-health:https%3A%2F%2Fstorage.googleapis.com%2Fkaggle-data-sets%2F3559763%2F6200306%2Fbundle%2Farchive.zip%3FX-Goog-Algorithm%3DGOOG4-RSA-SHA256%26X-Goog-Credential%3Dgcp-kaggle-com%2540kaggle-161607.iam.gserviceaccount.com%252F20240913%252Fauto%252Fstorage%252Fgoog4_request%26X-Goog-Date%3D20240913T124937Z%26X-Goog-Expires%3D259200%26X-Goog-SignedHeaders%3Dhost%26X-Goog-Signature%3D898730e0672066c38d3a36680edafdf79077280396102b3e06e9e9f258d68a2ef1c13b63455dfcb6845a87ee60316a2846d8fb4c24a37feb5e7bee586d1fd95291a14bdcc151c8c3a24dfb9050fdac81e829d7ceaa602a7820a2bf67cdf7b3cbf3f2c79c0b9c245d5e56726af4dd474153c769686a8e3ba22b3525198187d9976617bf0513894d75548b6202d1f39a6505cc1fe4c38ec3c2cc97e25445ba8d211f47b65f4ec28bd6a397b396e40b2876148772fd684b78147a7396f653361744257d4922ca706e90cbc1b4fc2708687859e57cc0851ae6cd4de3253696371bdc1af1716f9b6a2fa08765fa9df0813093cc8a711bb1caacd140aeff1dd4332ce4'\n",
        "\n",
        "KAGGLE_INPUT_PATH='/kaggle/input'\n",
        "KAGGLE_WORKING_PATH='/kaggle/working'\n",
        "KAGGLE_SYMLINK='kaggle'\n",
        "\n",
        "!umount /kaggle/input/ 2> /dev/null\n",
        "shutil.rmtree('/kaggle/input', ignore_errors=True)\n",
        "os.makedirs(KAGGLE_INPUT_PATH, 0o777, exist_ok=True)\n",
        "os.makedirs(KAGGLE_WORKING_PATH, 0o777, exist_ok=True)\n",
        "\n",
        "try:\n",
        "  os.symlink(KAGGLE_INPUT_PATH, os.path.join(\"..\", 'input'), target_is_directory=True)\n",
        "except FileExistsError:\n",
        "  pass\n",
        "try:\n",
        "  os.symlink(KAGGLE_WORKING_PATH, os.path.join(\"..\", 'working'), target_is_directory=True)\n",
        "except FileExistsError:\n",
        "  pass\n",
        "\n",
        "for data_source_mapping in DATA_SOURCE_MAPPING.split(','):\n",
        "    directory, download_url_encoded = data_source_mapping.split(':')\n",
        "    download_url = unquote(download_url_encoded)\n",
        "    filename = urlparse(download_url).path\n",
        "    destination_path = os.path.join(KAGGLE_INPUT_PATH, directory)\n",
        "    try:\n",
        "        with urlopen(download_url) as fileres, NamedTemporaryFile() as tfile:\n",
        "            total_length = fileres.headers['content-length']\n",
        "            print(f'Downloading {directory}, {total_length} bytes compressed')\n",
        "            dl = 0\n",
        "            data = fileres.read(CHUNK_SIZE)\n",
        "            while len(data) > 0:\n",
        "                dl += len(data)\n",
        "                tfile.write(data)\n",
        "                done = int(50 * dl / int(total_length))\n",
        "                sys.stdout.write(f\"\\r[{'=' * done}{' ' * (50-done)}] {dl} bytes downloaded\")\n",
        "                sys.stdout.flush()\n",
        "                data = fileres.read(CHUNK_SIZE)\n",
        "            if filename.endswith('.zip'):\n",
        "              with ZipFile(tfile) as zfile:\n",
        "                zfile.extractall(destination_path)\n",
        "            else:\n",
        "              with tarfile.open(tfile.name) as tarfile:\n",
        "                tarfile.extractall(destination_path)\n",
        "            print(f'\\nDownloaded and uncompressed: {directory}')\n",
        "    except HTTPError as e:\n",
        "        print(f'Failed to load (likely expired) {download_url} to path {destination_path}')\n",
        "        continue\n",
        "    except OSError as e:\n",
        "        print(f'Failed to load {download_url} to path {destination_path}')\n",
        "        continue\n",
        "\n",
        "print('Data source import complete.')\n"
      ],
      "metadata": {
        "id": "4qTEpIU0bqq-",
        "outputId": "d8e0f594-6ab7-47d3-b889-7ce74e1c3848",
        "colab": {
          "base_uri": "https://localhost:8080/"
        }
      },
      "cell_type": "code",
      "outputs": [
        {
          "output_type": "stream",
          "name": "stdout",
          "text": [
            "Downloading mental-health, 346265 bytes compressed\n",
            "[==================================================] 346265 bytes downloaded\n",
            "Downloaded and uncompressed: mental-health\n",
            "Data source import complete.\n"
          ]
        }
      ],
      "execution_count": 1
    },
    {
      "cell_type": "markdown",
      "source": [
        "![npr.brightspotcdn.jpg](attachment:f4138c80-758d-4bef-8b7b-f5e4933daf29.jpg)"
      ],
      "metadata": {
        "id": "O7b25aWzbqrI"
      }
    },
    {
      "cell_type": "markdown",
      "source": [
        "\n",
        "<p style=\"text-align:center;\"><span style=\"font-size:48px;\"><span style=\"color:crimson;\"><span style=\"font-family:cursive;\"> Hello everyone! </span> </span>  </span></p>"
      ],
      "metadata": {
        "id": "5gfsryCrbqrP"
      }
    },
    {
      "cell_type": "markdown",
      "source": [
        "<div style=\"color:white;\n",
        "           display:fill;\n",
        "           border-radius:100px;\n",
        "           background-color:#5642C5;\n",
        "           font-size:120%;\n",
        "           font-family:Verdana;\n",
        "           letter-spacing:0.5px\">\n",
        "\n",
        "<p style=\"padding: 50px;\n",
        "              color:white;\">What is mental health?\n",
        "Mental health includes our emotional, psychological, and social well-being. It affects how we think, feel, and act. It also helps determine how we handle stress, relate to others, and make healthy choices.1 Mental health is important at every stage of life, from childhood and adolescence through adulthood.\n",
        "\n",
        "</p>\n",
        "</div>\n"
      ],
      "metadata": {
        "id": "hvWE-MFbbqrR"
      }
    },
    {
      "cell_type": "markdown",
      "source": [
        "<div style=\"color:white;\n",
        "           display:fill;\n",
        "           border-radius:100px;\n",
        "           background-color:#5642C5;\n",
        "           font-size:120%;\n",
        "           font-family:Verdana;\n",
        "           letter-spacing:0.5px\">\n",
        "\n",
        "<p style=\"padding: 50px;\n",
        "              color:white;\">Why is mental health important for overall health?\n",
        "    Mental and physical health are equally important components of overall health.  For example, depression increases the risk for many types of physical health problems, particularly long-lasting conditions like diabetes, heart disease, and stroke. Similarly, the presence of chronic conditions can increase the risk for mental illness.\n",
        "\n",
        "</p>\n",
        "</div>\n"
      ],
      "metadata": {
        "id": "jmIEPFaCbqra"
      }
    },
    {
      "cell_type": "markdown",
      "source": [
        "<div style=\"color:white;\n",
        "           display:fill;\n",
        "           border-radius:100px;\n",
        "           background-color:#5642C5;\n",
        "           font-size:120%;\n",
        "           font-family:Verdana;\n",
        "           letter-spacing:0.5px\">\n",
        "\n",
        "<p style=\"padding: 50px;\n",
        "              color:white;\">In this notebook, I intend to perform analysis among different datasets. First, we will have a comprehensive analysis of the data using the Plotly library. Then, with the regression algorithm, we consider one of the variables as a target and model it. Of course, it is better to use clustering in this data, which I will do in the next notebook.\n",
        "\n",
        "</p>\n",
        "</div>\n"
      ],
      "metadata": {
        "id": "nPVXBDWTbqre"
      }
    },
    {
      "cell_type": "markdown",
      "source": [
        "<div style=\"color:white;\n",
        "           display:fill;\n",
        "           border-radius:100px;\n",
        "           background-color:#5642C5;\n",
        "           font-size:120%;\n",
        "           font-family:Verdana;\n",
        "           letter-spacing:0.5px\">\n",
        "\n",
        "<p style=\"padding: 30px;\n",
        "              color:white;\">Well, let's get started.\n",
        "</p>\n",
        "</div>"
      ],
      "metadata": {
        "id": "OJ9OFWjtbqri"
      }
    },
    {
      "cell_type": "markdown",
      "source": [
        "# 1- Import Libraries"
      ],
      "metadata": {
        "id": "sC7sVuaabqrk"
      }
    },
    {
      "cell_type": "code",
      "source": [
        "#import important libraries\n",
        "import numpy as np\n",
        "import pandas as pd\n",
        "import matplotlib.pyplot as plt\n",
        "import seaborn as sns\n",
        "from sklearn.linear_model import LinearRegression\n",
        "from sklearn.model_selection import train_test_split\n",
        "from sklearn.model_selection import KFold\n",
        "from sklearn.model_selection import cross_val_score\n",
        "from sklearn import preprocessing\n",
        "from sklearn import metrics\n",
        "import plotly.graph_objects as go\n",
        "import plotly.express as px\n",
        "from plotly.subplots import make_subplots\n",
        "from plotly.offline import init_notebook_mode\n",
        "init_notebook_mode(connected=True)\n",
        "import warnings\n",
        "warnings.filterwarnings(\"ignore\")"
      ],
      "metadata": {
        "execution": {
          "iopub.status.busy": "2023-08-03T07:46:20.394061Z",
          "iopub.execute_input": "2023-08-03T07:46:20.39456Z",
          "iopub.status.idle": "2023-08-03T07:46:20.403857Z",
          "shell.execute_reply.started": "2023-08-03T07:46:20.394519Z",
          "shell.execute_reply": "2023-08-03T07:46:20.402729Z"
        },
        "trusted": true,
        "id": "t3QrEx5bbqrp",
        "outputId": "9e0ca947-a625-4c37-97bb-96d5e14e0045",
        "colab": {
          "base_uri": "https://localhost:8080/",
          "height": 17
        }
      },
      "execution_count": 2,
      "outputs": [
        {
          "output_type": "display_data",
          "data": {
            "text/html": [
              "        <script type=\"text/javascript\">\n",
              "        window.PlotlyConfig = {MathJaxConfig: 'local'};\n",
              "        if (window.MathJax && window.MathJax.Hub && window.MathJax.Hub.Config) {window.MathJax.Hub.Config({SVG: {font: \"STIX-Web\"}});}\n",
              "        if (typeof require !== 'undefined') {\n",
              "        require.undef(\"plotly\");\n",
              "        requirejs.config({\n",
              "            paths: {\n",
              "                'plotly': ['https://cdn.plot.ly/plotly-2.24.1.min']\n",
              "            }\n",
              "        });\n",
              "        require(['plotly'], function(Plotly) {\n",
              "            window._Plotly = Plotly;\n",
              "        });\n",
              "        }\n",
              "        </script>\n",
              "        "
            ]
          },
          "metadata": {}
        }
      ]
    },
    {
      "cell_type": "markdown",
      "source": [
        "# 2- Call Datasets"
      ],
      "metadata": {
        "id": "M1cSJyxZbqrv"
      }
    },
    {
      "cell_type": "code",
      "source": [
        "Data1 = pd.read_csv(\"/kaggle/input/mental-health/1- mental-illnesses-prevalence.csv\")\n",
        "Data2 = pd.read_csv(\"/kaggle/input/mental-health/4- adult-population-covered-in-primary-data-on-the-prevalence-of-mental-illnesses.csv\")\n",
        "Data3 = pd.read_csv(\"/kaggle/input/mental-health/6- depressive-symptoms-across-us-population.csv\")\n",
        "Data4 = pd.read_csv(\"/kaggle/input/mental-health/7- number-of-countries-with-primary-data-on-prevalence-of-mental-illnesses-in-the-global-burden-of-disease-study.csv\")"
      ],
      "metadata": {
        "execution": {
          "iopub.status.busy": "2023-08-03T07:44:42.156899Z",
          "iopub.execute_input": "2023-08-03T07:44:42.157562Z",
          "iopub.status.idle": "2023-08-03T07:44:42.220132Z",
          "shell.execute_reply.started": "2023-08-03T07:44:42.157519Z",
          "shell.execute_reply": "2023-08-03T07:44:42.219069Z"
        },
        "trusted": true,
        "id": "KX46QAMEbqrx"
      },
      "execution_count": 3,
      "outputs": []
    },
    {
      "cell_type": "code",
      "source": [
        "df1 = pd.DataFrame(Data1)\n",
        "df2 = pd.DataFrame(Data2)\n",
        "df3 = pd.DataFrame(Data3)\n",
        "df4 = pd.DataFrame(Data4)"
      ],
      "metadata": {
        "execution": {
          "iopub.status.busy": "2023-08-03T07:44:42.22151Z",
          "iopub.execute_input": "2023-08-03T07:44:42.221913Z",
          "iopub.status.idle": "2023-08-03T07:44:42.227865Z",
          "shell.execute_reply.started": "2023-08-03T07:44:42.221876Z",
          "shell.execute_reply": "2023-08-03T07:44:42.226695Z"
        },
        "trusted": true,
        "id": "l3azVgQmbqr0"
      },
      "execution_count": 4,
      "outputs": []
    },
    {
      "cell_type": "code",
      "source": [
        "df1.head()"
      ],
      "metadata": {
        "id": "TdEXLxD7cmbb",
        "outputId": "3d7cd333-f89b-4a9a-f18e-3e8f5ecc7179",
        "colab": {
          "base_uri": "https://localhost:8080/",
          "height": 276
        }
      },
      "execution_count": 9,
      "outputs": [
        {
          "output_type": "execute_result",
          "data": {
            "text/plain": [
              "        Entity Code  Year  \\\n",
              "0  Afghanistan  AFG  1990   \n",
              "1  Afghanistan  AFG  1991   \n",
              "2  Afghanistan  AFG  1992   \n",
              "3  Afghanistan  AFG  1993   \n",
              "4  Afghanistan  AFG  1994   \n",
              "\n",
              "   Schizophrenia disorders (share of population) - Sex: Both - Age: Age-standardized  \\\n",
              "0                                           0.223206                                   \n",
              "1                                           0.222454                                   \n",
              "2                                           0.221751                                   \n",
              "3                                           0.220987                                   \n",
              "4                                           0.220183                                   \n",
              "\n",
              "   Depressive disorders (share of population) - Sex: Both - Age: Age-standardized  \\\n",
              "0                                           4.996118                                \n",
              "1                                           4.989290                                \n",
              "2                                           4.981346                                \n",
              "3                                           4.976958                                \n",
              "4                                           4.977782                                \n",
              "\n",
              "   Anxiety disorders (share of population) - Sex: Both - Age: Age-standardized  \\\n",
              "0                                           4.713314                             \n",
              "1                                           4.702100                             \n",
              "2                                           4.683743                             \n",
              "3                                           4.673549                             \n",
              "4                                           4.670810                             \n",
              "\n",
              "   Bipolar disorders (share of population) - Sex: Both - Age: Age-standardized  \\\n",
              "0                                           0.703023                             \n",
              "1                                           0.702069                             \n",
              "2                                           0.700792                             \n",
              "3                                           0.700087                             \n",
              "4                                           0.699898                             \n",
              "\n",
              "   Eating disorders (share of population) - Sex: Both - Age: Age-standardized  \n",
              "0                                           0.127700                           \n",
              "1                                           0.123256                           \n",
              "2                                           0.118844                           \n",
              "3                                           0.115089                           \n",
              "4                                           0.111815                           "
            ],
            "text/html": [
              "\n",
              "  <div id=\"df-167d8e04-b586-4da2-be26-859b06cee8d3\" class=\"colab-df-container\">\n",
              "    <div>\n",
              "<style scoped>\n",
              "    .dataframe tbody tr th:only-of-type {\n",
              "        vertical-align: middle;\n",
              "    }\n",
              "\n",
              "    .dataframe tbody tr th {\n",
              "        vertical-align: top;\n",
              "    }\n",
              "\n",
              "    .dataframe thead th {\n",
              "        text-align: right;\n",
              "    }\n",
              "</style>\n",
              "<table border=\"1\" class=\"dataframe\">\n",
              "  <thead>\n",
              "    <tr style=\"text-align: right;\">\n",
              "      <th></th>\n",
              "      <th>Entity</th>\n",
              "      <th>Code</th>\n",
              "      <th>Year</th>\n",
              "      <th>Schizophrenia disorders (share of population) - Sex: Both - Age: Age-standardized</th>\n",
              "      <th>Depressive disorders (share of population) - Sex: Both - Age: Age-standardized</th>\n",
              "      <th>Anxiety disorders (share of population) - Sex: Both - Age: Age-standardized</th>\n",
              "      <th>Bipolar disorders (share of population) - Sex: Both - Age: Age-standardized</th>\n",
              "      <th>Eating disorders (share of population) - Sex: Both - Age: Age-standardized</th>\n",
              "    </tr>\n",
              "  </thead>\n",
              "  <tbody>\n",
              "    <tr>\n",
              "      <th>0</th>\n",
              "      <td>Afghanistan</td>\n",
              "      <td>AFG</td>\n",
              "      <td>1990</td>\n",
              "      <td>0.223206</td>\n",
              "      <td>4.996118</td>\n",
              "      <td>4.713314</td>\n",
              "      <td>0.703023</td>\n",
              "      <td>0.127700</td>\n",
              "    </tr>\n",
              "    <tr>\n",
              "      <th>1</th>\n",
              "      <td>Afghanistan</td>\n",
              "      <td>AFG</td>\n",
              "      <td>1991</td>\n",
              "      <td>0.222454</td>\n",
              "      <td>4.989290</td>\n",
              "      <td>4.702100</td>\n",
              "      <td>0.702069</td>\n",
              "      <td>0.123256</td>\n",
              "    </tr>\n",
              "    <tr>\n",
              "      <th>2</th>\n",
              "      <td>Afghanistan</td>\n",
              "      <td>AFG</td>\n",
              "      <td>1992</td>\n",
              "      <td>0.221751</td>\n",
              "      <td>4.981346</td>\n",
              "      <td>4.683743</td>\n",
              "      <td>0.700792</td>\n",
              "      <td>0.118844</td>\n",
              "    </tr>\n",
              "    <tr>\n",
              "      <th>3</th>\n",
              "      <td>Afghanistan</td>\n",
              "      <td>AFG</td>\n",
              "      <td>1993</td>\n",
              "      <td>0.220987</td>\n",
              "      <td>4.976958</td>\n",
              "      <td>4.673549</td>\n",
              "      <td>0.700087</td>\n",
              "      <td>0.115089</td>\n",
              "    </tr>\n",
              "    <tr>\n",
              "      <th>4</th>\n",
              "      <td>Afghanistan</td>\n",
              "      <td>AFG</td>\n",
              "      <td>1994</td>\n",
              "      <td>0.220183</td>\n",
              "      <td>4.977782</td>\n",
              "      <td>4.670810</td>\n",
              "      <td>0.699898</td>\n",
              "      <td>0.111815</td>\n",
              "    </tr>\n",
              "  </tbody>\n",
              "</table>\n",
              "</div>\n",
              "    <div class=\"colab-df-buttons\">\n",
              "\n",
              "  <div class=\"colab-df-container\">\n",
              "    <button class=\"colab-df-convert\" onclick=\"convertToInteractive('df-167d8e04-b586-4da2-be26-859b06cee8d3')\"\n",
              "            title=\"Convert this dataframe to an interactive table.\"\n",
              "            style=\"display:none;\">\n",
              "\n",
              "  <svg xmlns=\"http://www.w3.org/2000/svg\" height=\"24px\" viewBox=\"0 -960 960 960\">\n",
              "    <path d=\"M120-120v-720h720v720H120Zm60-500h600v-160H180v160Zm220 220h160v-160H400v160Zm0 220h160v-160H400v160ZM180-400h160v-160H180v160Zm440 0h160v-160H620v160ZM180-180h160v-160H180v160Zm440 0h160v-160H620v160Z\"/>\n",
              "  </svg>\n",
              "    </button>\n",
              "\n",
              "  <style>\n",
              "    .colab-df-container {\n",
              "      display:flex;\n",
              "      gap: 12px;\n",
              "    }\n",
              "\n",
              "    .colab-df-convert {\n",
              "      background-color: #E8F0FE;\n",
              "      border: none;\n",
              "      border-radius: 50%;\n",
              "      cursor: pointer;\n",
              "      display: none;\n",
              "      fill: #1967D2;\n",
              "      height: 32px;\n",
              "      padding: 0 0 0 0;\n",
              "      width: 32px;\n",
              "    }\n",
              "\n",
              "    .colab-df-convert:hover {\n",
              "      background-color: #E2EBFA;\n",
              "      box-shadow: 0px 1px 2px rgba(60, 64, 67, 0.3), 0px 1px 3px 1px rgba(60, 64, 67, 0.15);\n",
              "      fill: #174EA6;\n",
              "    }\n",
              "\n",
              "    .colab-df-buttons div {\n",
              "      margin-bottom: 4px;\n",
              "    }\n",
              "\n",
              "    [theme=dark] .colab-df-convert {\n",
              "      background-color: #3B4455;\n",
              "      fill: #D2E3FC;\n",
              "    }\n",
              "\n",
              "    [theme=dark] .colab-df-convert:hover {\n",
              "      background-color: #434B5C;\n",
              "      box-shadow: 0px 1px 3px 1px rgba(0, 0, 0, 0.15);\n",
              "      filter: drop-shadow(0px 1px 2px rgba(0, 0, 0, 0.3));\n",
              "      fill: #FFFFFF;\n",
              "    }\n",
              "  </style>\n",
              "\n",
              "    <script>\n",
              "      const buttonEl =\n",
              "        document.querySelector('#df-167d8e04-b586-4da2-be26-859b06cee8d3 button.colab-df-convert');\n",
              "      buttonEl.style.display =\n",
              "        google.colab.kernel.accessAllowed ? 'block' : 'none';\n",
              "\n",
              "      async function convertToInteractive(key) {\n",
              "        const element = document.querySelector('#df-167d8e04-b586-4da2-be26-859b06cee8d3');\n",
              "        const dataTable =\n",
              "          await google.colab.kernel.invokeFunction('convertToInteractive',\n",
              "                                                    [key], {});\n",
              "        if (!dataTable) return;\n",
              "\n",
              "        const docLinkHtml = 'Like what you see? Visit the ' +\n",
              "          '<a target=\"_blank\" href=https://colab.research.google.com/notebooks/data_table.ipynb>data table notebook</a>'\n",
              "          + ' to learn more about interactive tables.';\n",
              "        element.innerHTML = '';\n",
              "        dataTable['output_type'] = 'display_data';\n",
              "        await google.colab.output.renderOutput(dataTable, element);\n",
              "        const docLink = document.createElement('div');\n",
              "        docLink.innerHTML = docLinkHtml;\n",
              "        element.appendChild(docLink);\n",
              "      }\n",
              "    </script>\n",
              "  </div>\n",
              "\n",
              "\n",
              "<div id=\"df-3a9c9e6d-9095-4736-b18a-9963d77b5be2\">\n",
              "  <button class=\"colab-df-quickchart\" onclick=\"quickchart('df-3a9c9e6d-9095-4736-b18a-9963d77b5be2')\"\n",
              "            title=\"Suggest charts\"\n",
              "            style=\"display:none;\">\n",
              "\n",
              "<svg xmlns=\"http://www.w3.org/2000/svg\" height=\"24px\"viewBox=\"0 0 24 24\"\n",
              "     width=\"24px\">\n",
              "    <g>\n",
              "        <path d=\"M19 3H5c-1.1 0-2 .9-2 2v14c0 1.1.9 2 2 2h14c1.1 0 2-.9 2-2V5c0-1.1-.9-2-2-2zM9 17H7v-7h2v7zm4 0h-2V7h2v10zm4 0h-2v-4h2v4z\"/>\n",
              "    </g>\n",
              "</svg>\n",
              "  </button>\n",
              "\n",
              "<style>\n",
              "  .colab-df-quickchart {\n",
              "      --bg-color: #E8F0FE;\n",
              "      --fill-color: #1967D2;\n",
              "      --hover-bg-color: #E2EBFA;\n",
              "      --hover-fill-color: #174EA6;\n",
              "      --disabled-fill-color: #AAA;\n",
              "      --disabled-bg-color: #DDD;\n",
              "  }\n",
              "\n",
              "  [theme=dark] .colab-df-quickchart {\n",
              "      --bg-color: #3B4455;\n",
              "      --fill-color: #D2E3FC;\n",
              "      --hover-bg-color: #434B5C;\n",
              "      --hover-fill-color: #FFFFFF;\n",
              "      --disabled-bg-color: #3B4455;\n",
              "      --disabled-fill-color: #666;\n",
              "  }\n",
              "\n",
              "  .colab-df-quickchart {\n",
              "    background-color: var(--bg-color);\n",
              "    border: none;\n",
              "    border-radius: 50%;\n",
              "    cursor: pointer;\n",
              "    display: none;\n",
              "    fill: var(--fill-color);\n",
              "    height: 32px;\n",
              "    padding: 0;\n",
              "    width: 32px;\n",
              "  }\n",
              "\n",
              "  .colab-df-quickchart:hover {\n",
              "    background-color: var(--hover-bg-color);\n",
              "    box-shadow: 0 1px 2px rgba(60, 64, 67, 0.3), 0 1px 3px 1px rgba(60, 64, 67, 0.15);\n",
              "    fill: var(--button-hover-fill-color);\n",
              "  }\n",
              "\n",
              "  .colab-df-quickchart-complete:disabled,\n",
              "  .colab-df-quickchart-complete:disabled:hover {\n",
              "    background-color: var(--disabled-bg-color);\n",
              "    fill: var(--disabled-fill-color);\n",
              "    box-shadow: none;\n",
              "  }\n",
              "\n",
              "  .colab-df-spinner {\n",
              "    border: 2px solid var(--fill-color);\n",
              "    border-color: transparent;\n",
              "    border-bottom-color: var(--fill-color);\n",
              "    animation:\n",
              "      spin 1s steps(1) infinite;\n",
              "  }\n",
              "\n",
              "  @keyframes spin {\n",
              "    0% {\n",
              "      border-color: transparent;\n",
              "      border-bottom-color: var(--fill-color);\n",
              "      border-left-color: var(--fill-color);\n",
              "    }\n",
              "    20% {\n",
              "      border-color: transparent;\n",
              "      border-left-color: var(--fill-color);\n",
              "      border-top-color: var(--fill-color);\n",
              "    }\n",
              "    30% {\n",
              "      border-color: transparent;\n",
              "      border-left-color: var(--fill-color);\n",
              "      border-top-color: var(--fill-color);\n",
              "      border-right-color: var(--fill-color);\n",
              "    }\n",
              "    40% {\n",
              "      border-color: transparent;\n",
              "      border-right-color: var(--fill-color);\n",
              "      border-top-color: var(--fill-color);\n",
              "    }\n",
              "    60% {\n",
              "      border-color: transparent;\n",
              "      border-right-color: var(--fill-color);\n",
              "    }\n",
              "    80% {\n",
              "      border-color: transparent;\n",
              "      border-right-color: var(--fill-color);\n",
              "      border-bottom-color: var(--fill-color);\n",
              "    }\n",
              "    90% {\n",
              "      border-color: transparent;\n",
              "      border-bottom-color: var(--fill-color);\n",
              "    }\n",
              "  }\n",
              "</style>\n",
              "\n",
              "  <script>\n",
              "    async function quickchart(key) {\n",
              "      const quickchartButtonEl =\n",
              "        document.querySelector('#' + key + ' button');\n",
              "      quickchartButtonEl.disabled = true;  // To prevent multiple clicks.\n",
              "      quickchartButtonEl.classList.add('colab-df-spinner');\n",
              "      try {\n",
              "        const charts = await google.colab.kernel.invokeFunction(\n",
              "            'suggestCharts', [key], {});\n",
              "      } catch (error) {\n",
              "        console.error('Error during call to suggestCharts:', error);\n",
              "      }\n",
              "      quickchartButtonEl.classList.remove('colab-df-spinner');\n",
              "      quickchartButtonEl.classList.add('colab-df-quickchart-complete');\n",
              "    }\n",
              "    (() => {\n",
              "      let quickchartButtonEl =\n",
              "        document.querySelector('#df-3a9c9e6d-9095-4736-b18a-9963d77b5be2 button');\n",
              "      quickchartButtonEl.style.display =\n",
              "        google.colab.kernel.accessAllowed ? 'block' : 'none';\n",
              "    })();\n",
              "  </script>\n",
              "</div>\n",
              "\n",
              "    </div>\n",
              "  </div>\n"
            ],
            "application/vnd.google.colaboratory.intrinsic+json": {
              "type": "dataframe",
              "variable_name": "df1",
              "summary": "{\n  \"name\": \"df1\",\n  \"rows\": 6420,\n  \"fields\": [\n    {\n      \"column\": \"Entity\",\n      \"properties\": {\n        \"dtype\": \"category\",\n        \"num_unique_values\": 214,\n        \"samples\": [\n          \"Argentina\",\n          \"Tuvalu\",\n          \"European Union (27)\"\n        ],\n        \"semantic_type\": \"\",\n        \"description\": \"\"\n      }\n    },\n    {\n      \"column\": \"Code\",\n      \"properties\": {\n        \"dtype\": \"category\",\n        \"num_unique_values\": 205,\n        \"samples\": [\n          \"BRB\",\n          \"AUS\",\n          \"LSO\"\n        ],\n        \"semantic_type\": \"\",\n        \"description\": \"\"\n      }\n    },\n    {\n      \"column\": \"Year\",\n      \"properties\": {\n        \"dtype\": \"number\",\n        \"std\": 8,\n        \"min\": 1990,\n        \"max\": 2019,\n        \"num_unique_values\": 30,\n        \"samples\": [\n          2017,\n          2005,\n          2013\n        ],\n        \"semantic_type\": \"\",\n        \"description\": \"\"\n      }\n    },\n    {\n      \"column\": \"Schizophrenia disorders (share of population) - Sex: Both - Age: Age-standardized\",\n      \"properties\": {\n        \"dtype\": \"number\",\n        \"std\": 0.03938283048041309,\n        \"min\": 0.18841599,\n        \"max\": 0.4620453,\n        \"num_unique_values\": 6406,\n        \"samples\": [\n          0.24450433,\n          0.28247505,\n          0.2089815\n        ],\n        \"semantic_type\": \"\",\n        \"description\": \"\"\n      }\n    },\n    {\n      \"column\": \"Depressive disorders (share of population) - Sex: Both - Age: Age-standardized\",\n      \"properties\": {\n        \"dtype\": \"number\",\n        \"std\": 0.9252858338210143,\n        \"min\": 1.5223331,\n        \"max\": 7.6458993,\n        \"num_unique_values\": 6416,\n        \"samples\": [\n          3.9951913,\n          4.8294444,\n          4.957605\n        ],\n        \"semantic_type\": \"\",\n        \"description\": \"\"\n      }\n    },\n    {\n      \"column\": \"Anxiety disorders (share of population) - Sex: Both - Age: Age-standardized\",\n      \"properties\": {\n        \"dtype\": \"number\",\n        \"std\": 1.0505430995124712,\n        \"min\": 1.8799964,\n        \"max\": 8.624634,\n        \"num_unique_values\": 6417,\n        \"samples\": [\n          6.2759886,\n          3.7112138,\n          4.057681\n        ],\n        \"semantic_type\": \"\",\n        \"description\": \"\"\n      }\n    },\n    {\n      \"column\": \"Bipolar disorders (share of population) - Sex: Both - Age: Age-standardized\",\n      \"properties\": {\n        \"dtype\": \"number\",\n        \"std\": 0.2333907636126668,\n        \"min\": 0.18166696,\n        \"max\": 1.5067295,\n        \"num_unique_values\": 6385,\n        \"samples\": [\n          0.53775173,\n          0.70583045,\n          0.32984126\n        ],\n        \"semantic_type\": \"\",\n        \"description\": \"\"\n      }\n    },\n    {\n      \"column\": \"Eating disorders (share of population) - Sex: Both - Age: Age-standardized\",\n      \"properties\": {\n        \"dtype\": \"number\",\n        \"std\": 0.13838022104841582,\n        \"min\": 0.044780303,\n        \"max\": 1.0316882,\n        \"num_unique_values\": 6417,\n        \"samples\": [\n          0.3780618,\n          0.073114336,\n          0.09078071\n        ],\n        \"semantic_type\": \"\",\n        \"description\": \"\"\n      }\n    }\n  ]\n}"
            }
          },
          "metadata": {},
          "execution_count": 9
        }
      ]
    },
    {
      "cell_type": "markdown",
      "source": [
        "# 3- Functional Describe of All Datasets"
      ],
      "metadata": {
        "id": "TlZ-ufuWbqr3"
      }
    },
    {
      "cell_type": "code",
      "source": [
        "def describe(df):\n",
        "\n",
        "\n",
        "    variables = []\n",
        "    dtypes = []\n",
        "    count = []\n",
        "    unique = []\n",
        "    missing = []\n",
        "\n",
        "\n",
        "    for item in df.columns:\n",
        "        variables.append(item)\n",
        "        dtypes.append(df[item].dtype)\n",
        "        count.append(len(df[item]))\n",
        "        unique.append(len(df[item].unique()))\n",
        "        missing.append(df[item].isna().sum())\n",
        "\n",
        "\n",
        "    output = pd.DataFrame({\n",
        "        'variable': variables,\n",
        "        'dtype': dtypes,\n",
        "        'count': count,\n",
        "        'unique': unique,\n",
        "        'missing value': missing\n",
        "    })\n",
        "\n",
        "    return output"
      ],
      "metadata": {
        "execution": {
          "iopub.status.busy": "2023-08-03T07:44:42.231268Z",
          "iopub.execute_input": "2023-08-03T07:44:42.231768Z",
          "iopub.status.idle": "2023-08-03T07:44:42.239889Z",
          "shell.execute_reply.started": "2023-08-03T07:44:42.231729Z",
          "shell.execute_reply": "2023-08-03T07:44:42.239001Z"
        },
        "trusted": true,
        "id": "rA-pkp4Ebqr4"
      },
      "execution_count": 5,
      "outputs": []
    },
    {
      "cell_type": "code",
      "source": [
        "class color:\n",
        "   BLUE = '\\033[94m'\n",
        "   BOLD = '\\033[1m'\n",
        "   UNDERLINE = '\\033[4m'\n",
        "   END = '\\033[0m'"
      ],
      "metadata": {
        "execution": {
          "iopub.status.busy": "2023-08-03T07:44:42.241107Z",
          "iopub.execute_input": "2023-08-03T07:44:42.241543Z",
          "iopub.status.idle": "2023-08-03T07:44:42.250785Z",
          "shell.execute_reply.started": "2023-08-03T07:44:42.241515Z",
          "shell.execute_reply": "2023-08-03T07:44:42.249853Z"
        },
        "trusted": true,
        "id": "PHUu1qQCbqsU"
      },
      "execution_count": 6,
      "outputs": []
    },
    {
      "cell_type": "markdown",
      "source": [
        "# 4- Output of Describes"
      ],
      "metadata": {
        "id": "6FFQZeH0bqsZ"
      }
    },
    {
      "cell_type": "code",
      "source": [
        "print(color.BOLD + color.BLUE + color.UNDERLINE +\n",
        "      '\"The describe table of df1 : Mental illness dataframe\"' + color.END)\n",
        "print(describe(df1))\n",
        "print(\"\\n\")\n",
        "print(color.BOLD + color.BLUE + color.UNDERLINE +\n",
        "      '\"The describe table of df2 : Adult population, mental illnesses\"' + color.END)\n",
        "print(describe(df2))\n",
        "print(\"\\n\")\n",
        "print(color.BOLD + color.BLUE + color.UNDERLINE +\n",
        "      '\"The describe table of df3 : Depressive\"' + color.END)\n",
        "print(describe(df3))\n",
        "print(\"\\n\")\n",
        "print(color.BOLD + color.BLUE + color.UNDERLINE +\n",
        "      '\"The describe table of df4 : Number of countries\"' + color.END)\n",
        "print(describe(df4))"
      ],
      "metadata": {
        "execution": {
          "iopub.status.busy": "2023-08-03T07:44:42.252096Z",
          "iopub.execute_input": "2023-08-03T07:44:42.252409Z",
          "iopub.status.idle": "2023-08-03T07:44:42.312576Z",
          "shell.execute_reply.started": "2023-08-03T07:44:42.252381Z",
          "shell.execute_reply": "2023-08-03T07:44:42.311784Z"
        },
        "trusted": true,
        "id": "LT4wIwFJbqsb",
        "outputId": "bdf7ecb7-aef3-448f-d7e3-ce1f253a3c25",
        "colab": {
          "base_uri": "https://localhost:8080/"
        }
      },
      "execution_count": 7,
      "outputs": [
        {
          "output_type": "stream",
          "name": "stdout",
          "text": [
            "\u001b[1m\u001b[94m\u001b[4m\"The describe table of df1 : Mental illness dataframe\"\u001b[0m\n",
            "                                            variable    dtype  count  unique  \\\n",
            "0                                             Entity   object   6420     214   \n",
            "1                                               Code   object   6420     206   \n",
            "2                                               Year    int64   6420      30   \n",
            "3  Schizophrenia disorders (share of population) ...  float64   6420    6406   \n",
            "4  Depressive disorders (share of population) - S...  float64   6420    6416   \n",
            "5  Anxiety disorders (share of population) - Sex:...  float64   6420    6417   \n",
            "6  Bipolar disorders (share of population) - Sex:...  float64   6420    6385   \n",
            "7  Eating disorders (share of population) - Sex: ...  float64   6420    6417   \n",
            "\n",
            "   missing value  \n",
            "0              0  \n",
            "1            270  \n",
            "2              0  \n",
            "3              0  \n",
            "4              0  \n",
            "5              0  \n",
            "6              0  \n",
            "7              0  \n",
            "\n",
            "\n",
            "\u001b[1m\u001b[94m\u001b[4m\"The describe table of df2 : Adult population, mental illnesses\"\u001b[0m\n",
            "            variable    dtype  count  unique  missing value\n",
            "0             Entity   object     22      22              0\n",
            "1               Code   object     22       2             21\n",
            "2               Year    int64     22       1              0\n",
            "3   Major depression  float64     22      18              0\n",
            "4   Bipolar disorder  float64     22      14              0\n",
            "5   Eating disorders  float64     22      11              0\n",
            "6          Dysthymia  float64     22      14              0\n",
            "7      Schizophrenia   object     22      14              0\n",
            "8  Anxiety disorders  float64     22      18              0\n",
            "\n",
            "\n",
            "\u001b[1m\u001b[94m\u001b[4m\"The describe table of df3 : Depressive\"\u001b[0m\n",
            "                  variable    dtype  count  unique  missing value\n",
            "0                   Entity   object     10      10              0\n",
            "1                     Code  float64     10       1             10\n",
            "2                     Year    int64     10       1              0\n",
            "3         Nearly every day  float64     10       9              0\n",
            "4  More than half the days  float64     10      10              0\n",
            "5             Several days  float64     10      10              0\n",
            "6               Not at all  float64     10      10              0\n",
            "\n",
            "\n",
            "\u001b[1m\u001b[94m\u001b[4m\"The describe table of df4 : Number of countries\"\u001b[0m\n",
            "                                            variable    dtype  count  unique  \\\n",
            "0                                             Entity   object     15      15   \n",
            "1                                               Code  float64     15       1   \n",
            "2                                               Year    int64     15       1   \n",
            "3  Number of countries with primary data on preva...    int64     15      11   \n",
            "\n",
            "   missing value  \n",
            "0              0  \n",
            "1             15  \n",
            "2              0  \n",
            "3              0  \n"
          ]
        }
      ]
    },
    {
      "cell_type": "markdown",
      "source": [
        "# 5- Some Visualizations with Plotly"
      ],
      "metadata": {
        "id": "BQV4tVhhbqsm"
      }
    },
    {
      "cell_type": "code",
      "source": [
        "df2.sort_values(by= \"Major depression\" ,inplace=True)\n",
        "plt.figure(dpi=200)\n",
        "fig = px.bar(df2, x=\"Major depression\", y=\"Entity\", orientation='h',color='Bipolar disorder')\n",
        "fig.show()"
      ],
      "metadata": {
        "execution": {
          "iopub.status.busy": "2023-08-03T07:44:42.313776Z",
          "iopub.execute_input": "2023-08-03T07:44:42.314286Z",
          "iopub.status.idle": "2023-08-03T07:44:44.313983Z",
          "shell.execute_reply.started": "2023-08-03T07:44:42.314256Z",
          "shell.execute_reply": "2023-08-03T07:44:44.31305Z"
        },
        "trusted": true,
        "id": "rf7U7oBWbqsn",
        "outputId": "5c3d69b3-80d3-4145-aa2c-711fc7c90a53",
        "colab": {
          "base_uri": "https://localhost:8080/",
          "height": 560
        }
      },
      "execution_count": 8,
      "outputs": [
        {
          "output_type": "display_data",
          "data": {
            "application/vnd.plotly.v1+json": {
              "data": [
                {
                  "alignmentgroup": "True",
                  "hovertemplate": "Major depression=%{x}<br>Entity=%{y}<br>Bipolar disorder=%{marker.color}<extra></extra>",
                  "legendgroup": "",
                  "marker": {
                    "color": [
                      0,
                      0,
                      0,
                      0,
                      0,
                      0.9,
                      0,
                      0,
                      6.4,
                      8.4,
                      0,
                      0,
                      11.6,
                      1.7,
                      12.9,
                      47,
                      14.5,
                      34.5,
                      19,
                      3.8,
                      100,
                      89.8
                    ],
                    "coloraxis": "coloraxis",
                    "pattern": {
                      "shape": ""
                    }
                  },
                  "name": "",
                  "offsetgroup": "",
                  "orientation": "h",
                  "showlegend": false,
                  "textposition": "auto",
                  "x": [
                    0,
                    0,
                    0,
                    0,
                    0.1,
                    1.3,
                    1.7,
                    9.1,
                    9.7,
                    12.2,
                    14.5,
                    16,
                    16.5,
                    23.6,
                    35.4,
                    46.6,
                    47,
                    49.8,
                    73.6,
                    80.8,
                    100,
                    100
                  ],
                  "xaxis": "x",
                  "y": [
                    "Andean Latin America",
                    "Central Asia",
                    "Central Sub-Saharan Africa",
                    "Oceania",
                    "Southern Sub-Saharan Africa",
                    "East Sub-Saharan Africa",
                    "South Asia",
                    "Caribbean",
                    "Tropical Latin America",
                    "East Asia",
                    "Southeast Asia",
                    "Central Europe",
                    "Southern Latin America",
                    "Eastern Europe",
                    "World",
                    "West Sub-Saharan Africa",
                    "North Africa/Middle East",
                    "Central Latin America",
                    "Western Europe",
                    "Asia Pacific",
                    "Australasia",
                    "North America"
                  ],
                  "yaxis": "y",
                  "type": "bar"
                }
              ],
              "layout": {
                "template": {
                  "data": {
                    "histogram2dcontour": [
                      {
                        "type": "histogram2dcontour",
                        "colorbar": {
                          "outlinewidth": 0,
                          "ticks": ""
                        },
                        "colorscale": [
                          [
                            0,
                            "#0d0887"
                          ],
                          [
                            0.1111111111111111,
                            "#46039f"
                          ],
                          [
                            0.2222222222222222,
                            "#7201a8"
                          ],
                          [
                            0.3333333333333333,
                            "#9c179e"
                          ],
                          [
                            0.4444444444444444,
                            "#bd3786"
                          ],
                          [
                            0.5555555555555556,
                            "#d8576b"
                          ],
                          [
                            0.6666666666666666,
                            "#ed7953"
                          ],
                          [
                            0.7777777777777778,
                            "#fb9f3a"
                          ],
                          [
                            0.8888888888888888,
                            "#fdca26"
                          ],
                          [
                            1,
                            "#f0f921"
                          ]
                        ]
                      }
                    ],
                    "choropleth": [
                      {
                        "type": "choropleth",
                        "colorbar": {
                          "outlinewidth": 0,
                          "ticks": ""
                        }
                      }
                    ],
                    "histogram2d": [
                      {
                        "type": "histogram2d",
                        "colorbar": {
                          "outlinewidth": 0,
                          "ticks": ""
                        },
                        "colorscale": [
                          [
                            0,
                            "#0d0887"
                          ],
                          [
                            0.1111111111111111,
                            "#46039f"
                          ],
                          [
                            0.2222222222222222,
                            "#7201a8"
                          ],
                          [
                            0.3333333333333333,
                            "#9c179e"
                          ],
                          [
                            0.4444444444444444,
                            "#bd3786"
                          ],
                          [
                            0.5555555555555556,
                            "#d8576b"
                          ],
                          [
                            0.6666666666666666,
                            "#ed7953"
                          ],
                          [
                            0.7777777777777778,
                            "#fb9f3a"
                          ],
                          [
                            0.8888888888888888,
                            "#fdca26"
                          ],
                          [
                            1,
                            "#f0f921"
                          ]
                        ]
                      }
                    ],
                    "heatmap": [
                      {
                        "type": "heatmap",
                        "colorbar": {
                          "outlinewidth": 0,
                          "ticks": ""
                        },
                        "colorscale": [
                          [
                            0,
                            "#0d0887"
                          ],
                          [
                            0.1111111111111111,
                            "#46039f"
                          ],
                          [
                            0.2222222222222222,
                            "#7201a8"
                          ],
                          [
                            0.3333333333333333,
                            "#9c179e"
                          ],
                          [
                            0.4444444444444444,
                            "#bd3786"
                          ],
                          [
                            0.5555555555555556,
                            "#d8576b"
                          ],
                          [
                            0.6666666666666666,
                            "#ed7953"
                          ],
                          [
                            0.7777777777777778,
                            "#fb9f3a"
                          ],
                          [
                            0.8888888888888888,
                            "#fdca26"
                          ],
                          [
                            1,
                            "#f0f921"
                          ]
                        ]
                      }
                    ],
                    "heatmapgl": [
                      {
                        "type": "heatmapgl",
                        "colorbar": {
                          "outlinewidth": 0,
                          "ticks": ""
                        },
                        "colorscale": [
                          [
                            0,
                            "#0d0887"
                          ],
                          [
                            0.1111111111111111,
                            "#46039f"
                          ],
                          [
                            0.2222222222222222,
                            "#7201a8"
                          ],
                          [
                            0.3333333333333333,
                            "#9c179e"
                          ],
                          [
                            0.4444444444444444,
                            "#bd3786"
                          ],
                          [
                            0.5555555555555556,
                            "#d8576b"
                          ],
                          [
                            0.6666666666666666,
                            "#ed7953"
                          ],
                          [
                            0.7777777777777778,
                            "#fb9f3a"
                          ],
                          [
                            0.8888888888888888,
                            "#fdca26"
                          ],
                          [
                            1,
                            "#f0f921"
                          ]
                        ]
                      }
                    ],
                    "contourcarpet": [
                      {
                        "type": "contourcarpet",
                        "colorbar": {
                          "outlinewidth": 0,
                          "ticks": ""
                        }
                      }
                    ],
                    "contour": [
                      {
                        "type": "contour",
                        "colorbar": {
                          "outlinewidth": 0,
                          "ticks": ""
                        },
                        "colorscale": [
                          [
                            0,
                            "#0d0887"
                          ],
                          [
                            0.1111111111111111,
                            "#46039f"
                          ],
                          [
                            0.2222222222222222,
                            "#7201a8"
                          ],
                          [
                            0.3333333333333333,
                            "#9c179e"
                          ],
                          [
                            0.4444444444444444,
                            "#bd3786"
                          ],
                          [
                            0.5555555555555556,
                            "#d8576b"
                          ],
                          [
                            0.6666666666666666,
                            "#ed7953"
                          ],
                          [
                            0.7777777777777778,
                            "#fb9f3a"
                          ],
                          [
                            0.8888888888888888,
                            "#fdca26"
                          ],
                          [
                            1,
                            "#f0f921"
                          ]
                        ]
                      }
                    ],
                    "surface": [
                      {
                        "type": "surface",
                        "colorbar": {
                          "outlinewidth": 0,
                          "ticks": ""
                        },
                        "colorscale": [
                          [
                            0,
                            "#0d0887"
                          ],
                          [
                            0.1111111111111111,
                            "#46039f"
                          ],
                          [
                            0.2222222222222222,
                            "#7201a8"
                          ],
                          [
                            0.3333333333333333,
                            "#9c179e"
                          ],
                          [
                            0.4444444444444444,
                            "#bd3786"
                          ],
                          [
                            0.5555555555555556,
                            "#d8576b"
                          ],
                          [
                            0.6666666666666666,
                            "#ed7953"
                          ],
                          [
                            0.7777777777777778,
                            "#fb9f3a"
                          ],
                          [
                            0.8888888888888888,
                            "#fdca26"
                          ],
                          [
                            1,
                            "#f0f921"
                          ]
                        ]
                      }
                    ],
                    "mesh3d": [
                      {
                        "type": "mesh3d",
                        "colorbar": {
                          "outlinewidth": 0,
                          "ticks": ""
                        }
                      }
                    ],
                    "scatter": [
                      {
                        "fillpattern": {
                          "fillmode": "overlay",
                          "size": 10,
                          "solidity": 0.2
                        },
                        "type": "scatter"
                      }
                    ],
                    "parcoords": [
                      {
                        "type": "parcoords",
                        "line": {
                          "colorbar": {
                            "outlinewidth": 0,
                            "ticks": ""
                          }
                        }
                      }
                    ],
                    "scatterpolargl": [
                      {
                        "type": "scatterpolargl",
                        "marker": {
                          "colorbar": {
                            "outlinewidth": 0,
                            "ticks": ""
                          }
                        }
                      }
                    ],
                    "bar": [
                      {
                        "error_x": {
                          "color": "#2a3f5f"
                        },
                        "error_y": {
                          "color": "#2a3f5f"
                        },
                        "marker": {
                          "line": {
                            "color": "#E5ECF6",
                            "width": 0.5
                          },
                          "pattern": {
                            "fillmode": "overlay",
                            "size": 10,
                            "solidity": 0.2
                          }
                        },
                        "type": "bar"
                      }
                    ],
                    "scattergeo": [
                      {
                        "type": "scattergeo",
                        "marker": {
                          "colorbar": {
                            "outlinewidth": 0,
                            "ticks": ""
                          }
                        }
                      }
                    ],
                    "scatterpolar": [
                      {
                        "type": "scatterpolar",
                        "marker": {
                          "colorbar": {
                            "outlinewidth": 0,
                            "ticks": ""
                          }
                        }
                      }
                    ],
                    "histogram": [
                      {
                        "marker": {
                          "pattern": {
                            "fillmode": "overlay",
                            "size": 10,
                            "solidity": 0.2
                          }
                        },
                        "type": "histogram"
                      }
                    ],
                    "scattergl": [
                      {
                        "type": "scattergl",
                        "marker": {
                          "colorbar": {
                            "outlinewidth": 0,
                            "ticks": ""
                          }
                        }
                      }
                    ],
                    "scatter3d": [
                      {
                        "type": "scatter3d",
                        "line": {
                          "colorbar": {
                            "outlinewidth": 0,
                            "ticks": ""
                          }
                        },
                        "marker": {
                          "colorbar": {
                            "outlinewidth": 0,
                            "ticks": ""
                          }
                        }
                      }
                    ],
                    "scattermapbox": [
                      {
                        "type": "scattermapbox",
                        "marker": {
                          "colorbar": {
                            "outlinewidth": 0,
                            "ticks": ""
                          }
                        }
                      }
                    ],
                    "scatterternary": [
                      {
                        "type": "scatterternary",
                        "marker": {
                          "colorbar": {
                            "outlinewidth": 0,
                            "ticks": ""
                          }
                        }
                      }
                    ],
                    "scattercarpet": [
                      {
                        "type": "scattercarpet",
                        "marker": {
                          "colorbar": {
                            "outlinewidth": 0,
                            "ticks": ""
                          }
                        }
                      }
                    ],
                    "carpet": [
                      {
                        "aaxis": {
                          "endlinecolor": "#2a3f5f",
                          "gridcolor": "white",
                          "linecolor": "white",
                          "minorgridcolor": "white",
                          "startlinecolor": "#2a3f5f"
                        },
                        "baxis": {
                          "endlinecolor": "#2a3f5f",
                          "gridcolor": "white",
                          "linecolor": "white",
                          "minorgridcolor": "white",
                          "startlinecolor": "#2a3f5f"
                        },
                        "type": "carpet"
                      }
                    ],
                    "table": [
                      {
                        "cells": {
                          "fill": {
                            "color": "#EBF0F8"
                          },
                          "line": {
                            "color": "white"
                          }
                        },
                        "header": {
                          "fill": {
                            "color": "#C8D4E3"
                          },
                          "line": {
                            "color": "white"
                          }
                        },
                        "type": "table"
                      }
                    ],
                    "barpolar": [
                      {
                        "marker": {
                          "line": {
                            "color": "#E5ECF6",
                            "width": 0.5
                          },
                          "pattern": {
                            "fillmode": "overlay",
                            "size": 10,
                            "solidity": 0.2
                          }
                        },
                        "type": "barpolar"
                      }
                    ],
                    "pie": [
                      {
                        "automargin": true,
                        "type": "pie"
                      }
                    ]
                  },
                  "layout": {
                    "autotypenumbers": "strict",
                    "colorway": [
                      "#636efa",
                      "#EF553B",
                      "#00cc96",
                      "#ab63fa",
                      "#FFA15A",
                      "#19d3f3",
                      "#FF6692",
                      "#B6E880",
                      "#FF97FF",
                      "#FECB52"
                    ],
                    "font": {
                      "color": "#2a3f5f"
                    },
                    "hovermode": "closest",
                    "hoverlabel": {
                      "align": "left"
                    },
                    "paper_bgcolor": "white",
                    "plot_bgcolor": "#E5ECF6",
                    "polar": {
                      "bgcolor": "#E5ECF6",
                      "angularaxis": {
                        "gridcolor": "white",
                        "linecolor": "white",
                        "ticks": ""
                      },
                      "radialaxis": {
                        "gridcolor": "white",
                        "linecolor": "white",
                        "ticks": ""
                      }
                    },
                    "ternary": {
                      "bgcolor": "#E5ECF6",
                      "aaxis": {
                        "gridcolor": "white",
                        "linecolor": "white",
                        "ticks": ""
                      },
                      "baxis": {
                        "gridcolor": "white",
                        "linecolor": "white",
                        "ticks": ""
                      },
                      "caxis": {
                        "gridcolor": "white",
                        "linecolor": "white",
                        "ticks": ""
                      }
                    },
                    "coloraxis": {
                      "colorbar": {
                        "outlinewidth": 0,
                        "ticks": ""
                      }
                    },
                    "colorscale": {
                      "sequential": [
                        [
                          0,
                          "#0d0887"
                        ],
                        [
                          0.1111111111111111,
                          "#46039f"
                        ],
                        [
                          0.2222222222222222,
                          "#7201a8"
                        ],
                        [
                          0.3333333333333333,
                          "#9c179e"
                        ],
                        [
                          0.4444444444444444,
                          "#bd3786"
                        ],
                        [
                          0.5555555555555556,
                          "#d8576b"
                        ],
                        [
                          0.6666666666666666,
                          "#ed7953"
                        ],
                        [
                          0.7777777777777778,
                          "#fb9f3a"
                        ],
                        [
                          0.8888888888888888,
                          "#fdca26"
                        ],
                        [
                          1,
                          "#f0f921"
                        ]
                      ],
                      "sequentialminus": [
                        [
                          0,
                          "#0d0887"
                        ],
                        [
                          0.1111111111111111,
                          "#46039f"
                        ],
                        [
                          0.2222222222222222,
                          "#7201a8"
                        ],
                        [
                          0.3333333333333333,
                          "#9c179e"
                        ],
                        [
                          0.4444444444444444,
                          "#bd3786"
                        ],
                        [
                          0.5555555555555556,
                          "#d8576b"
                        ],
                        [
                          0.6666666666666666,
                          "#ed7953"
                        ],
                        [
                          0.7777777777777778,
                          "#fb9f3a"
                        ],
                        [
                          0.8888888888888888,
                          "#fdca26"
                        ],
                        [
                          1,
                          "#f0f921"
                        ]
                      ],
                      "diverging": [
                        [
                          0,
                          "#8e0152"
                        ],
                        [
                          0.1,
                          "#c51b7d"
                        ],
                        [
                          0.2,
                          "#de77ae"
                        ],
                        [
                          0.3,
                          "#f1b6da"
                        ],
                        [
                          0.4,
                          "#fde0ef"
                        ],
                        [
                          0.5,
                          "#f7f7f7"
                        ],
                        [
                          0.6,
                          "#e6f5d0"
                        ],
                        [
                          0.7,
                          "#b8e186"
                        ],
                        [
                          0.8,
                          "#7fbc41"
                        ],
                        [
                          0.9,
                          "#4d9221"
                        ],
                        [
                          1,
                          "#276419"
                        ]
                      ]
                    },
                    "xaxis": {
                      "gridcolor": "white",
                      "linecolor": "white",
                      "ticks": "",
                      "title": {
                        "standoff": 15
                      },
                      "zerolinecolor": "white",
                      "automargin": true,
                      "zerolinewidth": 2
                    },
                    "yaxis": {
                      "gridcolor": "white",
                      "linecolor": "white",
                      "ticks": "",
                      "title": {
                        "standoff": 15
                      },
                      "zerolinecolor": "white",
                      "automargin": true,
                      "zerolinewidth": 2
                    },
                    "scene": {
                      "xaxis": {
                        "backgroundcolor": "#E5ECF6",
                        "gridcolor": "white",
                        "linecolor": "white",
                        "showbackground": true,
                        "ticks": "",
                        "zerolinecolor": "white",
                        "gridwidth": 2
                      },
                      "yaxis": {
                        "backgroundcolor": "#E5ECF6",
                        "gridcolor": "white",
                        "linecolor": "white",
                        "showbackground": true,
                        "ticks": "",
                        "zerolinecolor": "white",
                        "gridwidth": 2
                      },
                      "zaxis": {
                        "backgroundcolor": "#E5ECF6",
                        "gridcolor": "white",
                        "linecolor": "white",
                        "showbackground": true,
                        "ticks": "",
                        "zerolinecolor": "white",
                        "gridwidth": 2
                      }
                    },
                    "shapedefaults": {
                      "line": {
                        "color": "#2a3f5f"
                      }
                    },
                    "annotationdefaults": {
                      "arrowcolor": "#2a3f5f",
                      "arrowhead": 0,
                      "arrowwidth": 1
                    },
                    "geo": {
                      "bgcolor": "white",
                      "landcolor": "#E5ECF6",
                      "subunitcolor": "white",
                      "showland": true,
                      "showlakes": true,
                      "lakecolor": "white"
                    },
                    "title": {
                      "x": 0.05
                    },
                    "mapbox": {
                      "style": "light"
                    }
                  }
                },
                "xaxis": {
                  "anchor": "y",
                  "domain": [
                    0,
                    1
                  ],
                  "title": {
                    "text": "Major depression"
                  }
                },
                "yaxis": {
                  "anchor": "x",
                  "domain": [
                    0,
                    1
                  ],
                  "title": {
                    "text": "Entity"
                  }
                },
                "coloraxis": {
                  "colorbar": {
                    "title": {
                      "text": "Bipolar disorder"
                    }
                  },
                  "colorscale": [
                    [
                      0,
                      "#0d0887"
                    ],
                    [
                      0.1111111111111111,
                      "#46039f"
                    ],
                    [
                      0.2222222222222222,
                      "#7201a8"
                    ],
                    [
                      0.3333333333333333,
                      "#9c179e"
                    ],
                    [
                      0.4444444444444444,
                      "#bd3786"
                    ],
                    [
                      0.5555555555555556,
                      "#d8576b"
                    ],
                    [
                      0.6666666666666666,
                      "#ed7953"
                    ],
                    [
                      0.7777777777777778,
                      "#fb9f3a"
                    ],
                    [
                      0.8888888888888888,
                      "#fdca26"
                    ],
                    [
                      1,
                      "#f0f921"
                    ]
                  ]
                },
                "legend": {
                  "tracegroupgap": 0
                },
                "margin": {
                  "t": 60
                },
                "barmode": "relative"
              },
              "config": {
                "plotlyServerURL": "https://plot.ly"
              }
            },
            "text/html": [
              "<div>                            <div id=\"027feda4-6178-4a2c-884f-7ea0ffa31d76\" class=\"plotly-graph-div\" style=\"height:525px; width:100%;\"></div>            <script type=\"text/javascript\">                require([\"plotly\"], function(Plotly) {                    window.PLOTLYENV=window.PLOTLYENV || {};                                    if (document.getElementById(\"027feda4-6178-4a2c-884f-7ea0ffa31d76\")) {                    Plotly.newPlot(                        \"027feda4-6178-4a2c-884f-7ea0ffa31d76\",                        [{\"alignmentgroup\":\"True\",\"hovertemplate\":\"Major depression=%{x}\\u003cbr\\u003eEntity=%{y}\\u003cbr\\u003eBipolar disorder=%{marker.color}\\u003cextra\\u003e\\u003c\\u002fextra\\u003e\",\"legendgroup\":\"\",\"marker\":{\"color\":[0.0,0.0,0.0,0.0,0.0,0.9,0.0,0.0,6.4,8.4,0.0,0.0,11.6,1.7,12.9,47.0,14.5,34.5,19.0,3.8,100.0,89.8],\"coloraxis\":\"coloraxis\",\"pattern\":{\"shape\":\"\"}},\"name\":\"\",\"offsetgroup\":\"\",\"orientation\":\"h\",\"showlegend\":false,\"textposition\":\"auto\",\"x\":[0.0,0.0,0.0,0.0,0.1,1.3,1.7,9.1,9.7,12.2,14.5,16.0,16.5,23.6,35.4,46.6,47.0,49.8,73.6,80.8,100.0,100.0],\"xaxis\":\"x\",\"y\":[\"Andean Latin America\",\"Central Asia\",\"Central Sub-Saharan Africa\",\"Oceania\",\"Southern Sub-Saharan Africa\",\"East Sub-Saharan Africa\",\"South Asia\",\"Caribbean\",\"Tropical Latin America\",\"East Asia\",\"Southeast Asia\",\"Central Europe\",\"Southern Latin America\",\"Eastern Europe\",\"World\",\"West Sub-Saharan Africa\",\"North Africa\\u002fMiddle East\",\"Central Latin America\",\"Western Europe\",\"Asia Pacific\",\"Australasia\",\"North America\"],\"yaxis\":\"y\",\"type\":\"bar\"}],                        {\"template\":{\"data\":{\"histogram2dcontour\":[{\"type\":\"histogram2dcontour\",\"colorbar\":{\"outlinewidth\":0,\"ticks\":\"\"},\"colorscale\":[[0.0,\"#0d0887\"],[0.1111111111111111,\"#46039f\"],[0.2222222222222222,\"#7201a8\"],[0.3333333333333333,\"#9c179e\"],[0.4444444444444444,\"#bd3786\"],[0.5555555555555556,\"#d8576b\"],[0.6666666666666666,\"#ed7953\"],[0.7777777777777778,\"#fb9f3a\"],[0.8888888888888888,\"#fdca26\"],[1.0,\"#f0f921\"]]}],\"choropleth\":[{\"type\":\"choropleth\",\"colorbar\":{\"outlinewidth\":0,\"ticks\":\"\"}}],\"histogram2d\":[{\"type\":\"histogram2d\",\"colorbar\":{\"outlinewidth\":0,\"ticks\":\"\"},\"colorscale\":[[0.0,\"#0d0887\"],[0.1111111111111111,\"#46039f\"],[0.2222222222222222,\"#7201a8\"],[0.3333333333333333,\"#9c179e\"],[0.4444444444444444,\"#bd3786\"],[0.5555555555555556,\"#d8576b\"],[0.6666666666666666,\"#ed7953\"],[0.7777777777777778,\"#fb9f3a\"],[0.8888888888888888,\"#fdca26\"],[1.0,\"#f0f921\"]]}],\"heatmap\":[{\"type\":\"heatmap\",\"colorbar\":{\"outlinewidth\":0,\"ticks\":\"\"},\"colorscale\":[[0.0,\"#0d0887\"],[0.1111111111111111,\"#46039f\"],[0.2222222222222222,\"#7201a8\"],[0.3333333333333333,\"#9c179e\"],[0.4444444444444444,\"#bd3786\"],[0.5555555555555556,\"#d8576b\"],[0.6666666666666666,\"#ed7953\"],[0.7777777777777778,\"#fb9f3a\"],[0.8888888888888888,\"#fdca26\"],[1.0,\"#f0f921\"]]}],\"heatmapgl\":[{\"type\":\"heatmapgl\",\"colorbar\":{\"outlinewidth\":0,\"ticks\":\"\"},\"colorscale\":[[0.0,\"#0d0887\"],[0.1111111111111111,\"#46039f\"],[0.2222222222222222,\"#7201a8\"],[0.3333333333333333,\"#9c179e\"],[0.4444444444444444,\"#bd3786\"],[0.5555555555555556,\"#d8576b\"],[0.6666666666666666,\"#ed7953\"],[0.7777777777777778,\"#fb9f3a\"],[0.8888888888888888,\"#fdca26\"],[1.0,\"#f0f921\"]]}],\"contourcarpet\":[{\"type\":\"contourcarpet\",\"colorbar\":{\"outlinewidth\":0,\"ticks\":\"\"}}],\"contour\":[{\"type\":\"contour\",\"colorbar\":{\"outlinewidth\":0,\"ticks\":\"\"},\"colorscale\":[[0.0,\"#0d0887\"],[0.1111111111111111,\"#46039f\"],[0.2222222222222222,\"#7201a8\"],[0.3333333333333333,\"#9c179e\"],[0.4444444444444444,\"#bd3786\"],[0.5555555555555556,\"#d8576b\"],[0.6666666666666666,\"#ed7953\"],[0.7777777777777778,\"#fb9f3a\"],[0.8888888888888888,\"#fdca26\"],[1.0,\"#f0f921\"]]}],\"surface\":[{\"type\":\"surface\",\"colorbar\":{\"outlinewidth\":0,\"ticks\":\"\"},\"colorscale\":[[0.0,\"#0d0887\"],[0.1111111111111111,\"#46039f\"],[0.2222222222222222,\"#7201a8\"],[0.3333333333333333,\"#9c179e\"],[0.4444444444444444,\"#bd3786\"],[0.5555555555555556,\"#d8576b\"],[0.6666666666666666,\"#ed7953\"],[0.7777777777777778,\"#fb9f3a\"],[0.8888888888888888,\"#fdca26\"],[1.0,\"#f0f921\"]]}],\"mesh3d\":[{\"type\":\"mesh3d\",\"colorbar\":{\"outlinewidth\":0,\"ticks\":\"\"}}],\"scatter\":[{\"fillpattern\":{\"fillmode\":\"overlay\",\"size\":10,\"solidity\":0.2},\"type\":\"scatter\"}],\"parcoords\":[{\"type\":\"parcoords\",\"line\":{\"colorbar\":{\"outlinewidth\":0,\"ticks\":\"\"}}}],\"scatterpolargl\":[{\"type\":\"scatterpolargl\",\"marker\":{\"colorbar\":{\"outlinewidth\":0,\"ticks\":\"\"}}}],\"bar\":[{\"error_x\":{\"color\":\"#2a3f5f\"},\"error_y\":{\"color\":\"#2a3f5f\"},\"marker\":{\"line\":{\"color\":\"#E5ECF6\",\"width\":0.5},\"pattern\":{\"fillmode\":\"overlay\",\"size\":10,\"solidity\":0.2}},\"type\":\"bar\"}],\"scattergeo\":[{\"type\":\"scattergeo\",\"marker\":{\"colorbar\":{\"outlinewidth\":0,\"ticks\":\"\"}}}],\"scatterpolar\":[{\"type\":\"scatterpolar\",\"marker\":{\"colorbar\":{\"outlinewidth\":0,\"ticks\":\"\"}}}],\"histogram\":[{\"marker\":{\"pattern\":{\"fillmode\":\"overlay\",\"size\":10,\"solidity\":0.2}},\"type\":\"histogram\"}],\"scattergl\":[{\"type\":\"scattergl\",\"marker\":{\"colorbar\":{\"outlinewidth\":0,\"ticks\":\"\"}}}],\"scatter3d\":[{\"type\":\"scatter3d\",\"line\":{\"colorbar\":{\"outlinewidth\":0,\"ticks\":\"\"}},\"marker\":{\"colorbar\":{\"outlinewidth\":0,\"ticks\":\"\"}}}],\"scattermapbox\":[{\"type\":\"scattermapbox\",\"marker\":{\"colorbar\":{\"outlinewidth\":0,\"ticks\":\"\"}}}],\"scatterternary\":[{\"type\":\"scatterternary\",\"marker\":{\"colorbar\":{\"outlinewidth\":0,\"ticks\":\"\"}}}],\"scattercarpet\":[{\"type\":\"scattercarpet\",\"marker\":{\"colorbar\":{\"outlinewidth\":0,\"ticks\":\"\"}}}],\"carpet\":[{\"aaxis\":{\"endlinecolor\":\"#2a3f5f\",\"gridcolor\":\"white\",\"linecolor\":\"white\",\"minorgridcolor\":\"white\",\"startlinecolor\":\"#2a3f5f\"},\"baxis\":{\"endlinecolor\":\"#2a3f5f\",\"gridcolor\":\"white\",\"linecolor\":\"white\",\"minorgridcolor\":\"white\",\"startlinecolor\":\"#2a3f5f\"},\"type\":\"carpet\"}],\"table\":[{\"cells\":{\"fill\":{\"color\":\"#EBF0F8\"},\"line\":{\"color\":\"white\"}},\"header\":{\"fill\":{\"color\":\"#C8D4E3\"},\"line\":{\"color\":\"white\"}},\"type\":\"table\"}],\"barpolar\":[{\"marker\":{\"line\":{\"color\":\"#E5ECF6\",\"width\":0.5},\"pattern\":{\"fillmode\":\"overlay\",\"size\":10,\"solidity\":0.2}},\"type\":\"barpolar\"}],\"pie\":[{\"automargin\":true,\"type\":\"pie\"}]},\"layout\":{\"autotypenumbers\":\"strict\",\"colorway\":[\"#636efa\",\"#EF553B\",\"#00cc96\",\"#ab63fa\",\"#FFA15A\",\"#19d3f3\",\"#FF6692\",\"#B6E880\",\"#FF97FF\",\"#FECB52\"],\"font\":{\"color\":\"#2a3f5f\"},\"hovermode\":\"closest\",\"hoverlabel\":{\"align\":\"left\"},\"paper_bgcolor\":\"white\",\"plot_bgcolor\":\"#E5ECF6\",\"polar\":{\"bgcolor\":\"#E5ECF6\",\"angularaxis\":{\"gridcolor\":\"white\",\"linecolor\":\"white\",\"ticks\":\"\"},\"radialaxis\":{\"gridcolor\":\"white\",\"linecolor\":\"white\",\"ticks\":\"\"}},\"ternary\":{\"bgcolor\":\"#E5ECF6\",\"aaxis\":{\"gridcolor\":\"white\",\"linecolor\":\"white\",\"ticks\":\"\"},\"baxis\":{\"gridcolor\":\"white\",\"linecolor\":\"white\",\"ticks\":\"\"},\"caxis\":{\"gridcolor\":\"white\",\"linecolor\":\"white\",\"ticks\":\"\"}},\"coloraxis\":{\"colorbar\":{\"outlinewidth\":0,\"ticks\":\"\"}},\"colorscale\":{\"sequential\":[[0.0,\"#0d0887\"],[0.1111111111111111,\"#46039f\"],[0.2222222222222222,\"#7201a8\"],[0.3333333333333333,\"#9c179e\"],[0.4444444444444444,\"#bd3786\"],[0.5555555555555556,\"#d8576b\"],[0.6666666666666666,\"#ed7953\"],[0.7777777777777778,\"#fb9f3a\"],[0.8888888888888888,\"#fdca26\"],[1.0,\"#f0f921\"]],\"sequentialminus\":[[0.0,\"#0d0887\"],[0.1111111111111111,\"#46039f\"],[0.2222222222222222,\"#7201a8\"],[0.3333333333333333,\"#9c179e\"],[0.4444444444444444,\"#bd3786\"],[0.5555555555555556,\"#d8576b\"],[0.6666666666666666,\"#ed7953\"],[0.7777777777777778,\"#fb9f3a\"],[0.8888888888888888,\"#fdca26\"],[1.0,\"#f0f921\"]],\"diverging\":[[0,\"#8e0152\"],[0.1,\"#c51b7d\"],[0.2,\"#de77ae\"],[0.3,\"#f1b6da\"],[0.4,\"#fde0ef\"],[0.5,\"#f7f7f7\"],[0.6,\"#e6f5d0\"],[0.7,\"#b8e186\"],[0.8,\"#7fbc41\"],[0.9,\"#4d9221\"],[1,\"#276419\"]]},\"xaxis\":{\"gridcolor\":\"white\",\"linecolor\":\"white\",\"ticks\":\"\",\"title\":{\"standoff\":15},\"zerolinecolor\":\"white\",\"automargin\":true,\"zerolinewidth\":2},\"yaxis\":{\"gridcolor\":\"white\",\"linecolor\":\"white\",\"ticks\":\"\",\"title\":{\"standoff\":15},\"zerolinecolor\":\"white\",\"automargin\":true,\"zerolinewidth\":2},\"scene\":{\"xaxis\":{\"backgroundcolor\":\"#E5ECF6\",\"gridcolor\":\"white\",\"linecolor\":\"white\",\"showbackground\":true,\"ticks\":\"\",\"zerolinecolor\":\"white\",\"gridwidth\":2},\"yaxis\":{\"backgroundcolor\":\"#E5ECF6\",\"gridcolor\":\"white\",\"linecolor\":\"white\",\"showbackground\":true,\"ticks\":\"\",\"zerolinecolor\":\"white\",\"gridwidth\":2},\"zaxis\":{\"backgroundcolor\":\"#E5ECF6\",\"gridcolor\":\"white\",\"linecolor\":\"white\",\"showbackground\":true,\"ticks\":\"\",\"zerolinecolor\":\"white\",\"gridwidth\":2}},\"shapedefaults\":{\"line\":{\"color\":\"#2a3f5f\"}},\"annotationdefaults\":{\"arrowcolor\":\"#2a3f5f\",\"arrowhead\":0,\"arrowwidth\":1},\"geo\":{\"bgcolor\":\"white\",\"landcolor\":\"#E5ECF6\",\"subunitcolor\":\"white\",\"showland\":true,\"showlakes\":true,\"lakecolor\":\"white\"},\"title\":{\"x\":0.05},\"mapbox\":{\"style\":\"light\"}}},\"xaxis\":{\"anchor\":\"y\",\"domain\":[0.0,1.0],\"title\":{\"text\":\"Major depression\"}},\"yaxis\":{\"anchor\":\"x\",\"domain\":[0.0,1.0],\"title\":{\"text\":\"Entity\"}},\"coloraxis\":{\"colorbar\":{\"title\":{\"text\":\"Bipolar disorder\"}},\"colorscale\":[[0.0,\"#0d0887\"],[0.1111111111111111,\"#46039f\"],[0.2222222222222222,\"#7201a8\"],[0.3333333333333333,\"#9c179e\"],[0.4444444444444444,\"#bd3786\"],[0.5555555555555556,\"#d8576b\"],[0.6666666666666666,\"#ed7953\"],[0.7777777777777778,\"#fb9f3a\"],[0.8888888888888888,\"#fdca26\"],[1.0,\"#f0f921\"]]},\"legend\":{\"tracegroupgap\":0},\"margin\":{\"t\":60},\"barmode\":\"relative\"},                        {\"responsive\": true}                    ).then(function(){\n",
              "                            \n",
              "var gd = document.getElementById('027feda4-6178-4a2c-884f-7ea0ffa31d76');\n",
              "var x = new MutationObserver(function (mutations, observer) {{\n",
              "        var display = window.getComputedStyle(gd).display;\n",
              "        if (!display || display === 'none') {{\n",
              "            console.log([gd, 'removed!']);\n",
              "            Plotly.purge(gd);\n",
              "            observer.disconnect();\n",
              "        }}\n",
              "}});\n",
              "\n",
              "// Listen for the removal of the full notebook cells\n",
              "var notebookContainer = gd.closest('#notebook-container');\n",
              "if (notebookContainer) {{\n",
              "    x.observe(notebookContainer, {childList: true});\n",
              "}}\n",
              "\n",
              "// Listen for the clearing of the current output cell\n",
              "var outputEl = gd.closest('.output');\n",
              "if (outputEl) {{\n",
              "    x.observe(outputEl, {childList: true});\n",
              "}}\n",
              "\n",
              "                        })                };                });            </script>        </div>"
            ]
          },
          "metadata": {}
        },
        {
          "output_type": "display_data",
          "data": {
            "text/plain": [
              "<Figure size 1280x960 with 0 Axes>"
            ]
          },
          "metadata": {}
        }
      ]
    },
    {
      "cell_type": "code",
      "source": [
        "df2.sort_values(by= \"Eating disorders\" ,inplace=True)\n",
        "plt.figure(dpi=200)\n",
        "fig = px.bar(df2, x=\"Eating disorders\", y=\"Entity\", orientation='h',color='Dysthymia')\n",
        "fig.show()"
      ],
      "metadata": {
        "execution": {
          "iopub.status.busy": "2023-08-03T07:44:44.31746Z",
          "iopub.execute_input": "2023-08-03T07:44:44.319312Z",
          "iopub.status.idle": "2023-08-03T07:44:44.395053Z",
          "shell.execute_reply.started": "2023-08-03T07:44:44.319281Z",
          "shell.execute_reply": "2023-08-03T07:44:44.394129Z"
        },
        "trusted": true,
        "id": "u4z_edv5bqtD"
      },
      "execution_count": null,
      "outputs": []
    },
    {
      "cell_type": "code",
      "source": [
        "df2.replace(to_replace=\"<0.1\", value=0.1, regex=True, inplace=True)"
      ],
      "metadata": {
        "execution": {
          "iopub.status.busy": "2023-08-03T07:44:44.396283Z",
          "iopub.execute_input": "2023-08-03T07:44:44.397279Z",
          "iopub.status.idle": "2023-08-03T07:44:44.40372Z",
          "shell.execute_reply.started": "2023-08-03T07:44:44.397237Z",
          "shell.execute_reply": "2023-08-03T07:44:44.402705Z"
        },
        "trusted": true,
        "id": "YDtr1HnXbqtG"
      },
      "execution_count": null,
      "outputs": []
    },
    {
      "cell_type": "code",
      "source": [
        "df2['Schizophrenia'] = df2['Schizophrenia'].astype(float)"
      ],
      "metadata": {
        "execution": {
          "iopub.status.busy": "2023-08-03T07:44:44.407937Z",
          "iopub.execute_input": "2023-08-03T07:44:44.408773Z",
          "iopub.status.idle": "2023-08-03T07:44:44.420414Z",
          "shell.execute_reply.started": "2023-08-03T07:44:44.408743Z",
          "shell.execute_reply": "2023-08-03T07:44:44.419546Z"
        },
        "trusted": true,
        "id": "xI1c4_NUbqtI"
      },
      "execution_count": null,
      "outputs": []
    },
    {
      "cell_type": "code",
      "source": [
        "df2.sort_values(by= \"Schizophrenia\" ,inplace=True)\n",
        "plt.figure(dpi=200)\n",
        "fig = px.bar(df2, x=\"Schizophrenia\", y=\"Entity\", orientation='h',color='Anxiety disorders')\n",
        "fig.show()"
      ],
      "metadata": {
        "execution": {
          "iopub.status.busy": "2023-08-03T07:44:44.421685Z",
          "iopub.execute_input": "2023-08-03T07:44:44.422481Z",
          "iopub.status.idle": "2023-08-03T07:44:44.501098Z",
          "shell.execute_reply.started": "2023-08-03T07:44:44.422443Z",
          "shell.execute_reply": "2023-08-03T07:44:44.500218Z"
        },
        "trusted": true,
        "id": "c_6MSQzrbqtK"
      },
      "execution_count": null,
      "outputs": []
    },
    {
      "cell_type": "markdown",
      "source": [
        "# 6- Amazing Dynamik Subplot with Plotly and go"
      ],
      "metadata": {
        "id": "ahlbc3YlbqtN"
      }
    },
    {
      "cell_type": "code",
      "source": [
        "fig = make_subplots(rows=1, cols=2, specs=[[{}, {}]], shared_xaxes=True,\n",
        "                    shared_yaxes=False, vertical_spacing=0.001)\n",
        "\n",
        "x1 = [\"Andean Latin America\", \"West Sub-Saharan Africa\", \"Tropical Latin America\", \"Central Asia\", \"Central Europe\",\n",
        "    \"Central Sub-Saharan Africa\", \"Southern Latin America\", \"North Africa/Middle East\", \"Southern Sub-Saharan Africa\",\n",
        "    \"Southeast Asia\", \"Oceania\", \"Central Latin America\", \"Eastern Europe\", \"South Asia\", \"East Sub-Saharan Africa\",\n",
        "    \"Western Europe\", \"World\", \"East Asia\", \"Caribbean\", \"Asia Pacific\", \"Australasia\", \"North America\"]\n",
        "\n",
        "fig.append_trace(go.Bar(\n",
        "    x=df2[\"Bipolar disorder\"],\n",
        "    y=x1,\n",
        "    marker=dict(\n",
        "        color='rgba(50, 171, 96, 0.6)',\n",
        "        line=dict(\n",
        "            color='rgba(20, 10, 56, 1.0)',\n",
        "            width=0),\n",
        "    ),\n",
        "    name='Bipolar disorder in Mental Health',\n",
        "    orientation='h',\n",
        "), 1, 1)\n",
        "\n",
        "fig.append_trace(go.Scatter(\n",
        "    x=df2[\"Major depression\"], y=x1,\n",
        "    mode='lines+markers',\n",
        "    line_color='rgb(40, 0, 128)',\n",
        "    name='Major depression in Mental Health',\n",
        "), 1, 2)\n",
        "\n",
        "fig.update_layout(\n",
        "    title='Major depression and Bipolar disorder',\n",
        "    yaxis=dict(\n",
        "        showgrid=False,\n",
        "        showline=False,\n",
        "        showticklabels=True,\n",
        "        domain=[0, 0.85],\n",
        "    ),\n",
        "    yaxis2=dict(\n",
        "        showgrid=False,\n",
        "        showline=True,\n",
        "        showticklabels=False,\n",
        "        linecolor='rgba(102, 102, 102, 0.8)',\n",
        "        linewidth=5,\n",
        "        domain=[0, 0.85],\n",
        "    ),\n",
        "    xaxis=dict(\n",
        "        zeroline=False,\n",
        "        showline=False,\n",
        "        showticklabels=True,\n",
        "        showgrid=True,\n",
        "        domain=[0, 0.45],\n",
        "    ),\n",
        "    xaxis2=dict(\n",
        "        zeroline=False,\n",
        "        showline=False,\n",
        "        showticklabels=True,\n",
        "        showgrid=True,\n",
        "        domain=[0.47, 1],\n",
        "        side='top',\n",
        "        dtick=10000,\n",
        "    ),\n",
        "    legend=dict(x=0.029, y=1.038, font_size=10),\n",
        "    margin=dict(l=100, r=20, t=70, b=70),\n",
        "    paper_bgcolor='rgb(248, 248, 255)',\n",
        "    plot_bgcolor='rgb(248, 248, 255)',\n",
        ")\n",
        "\n",
        "annotations = []\n",
        "\n",
        "\n",
        "# Adding labels\n",
        "for ydn, yd, xd in zip(df2[\"Major depression\"], df2[\"Bipolar disorder\"], x1):\n",
        "    # labeling the scatter savings\n",
        "    annotations.append(dict(xref='x2', yref='y2',\n",
        "                            y=xd, x=ydn+10,\n",
        "                            text='{:,}'.format(ydn) + '%',\n",
        "                            font=dict(family='Arial', size=10,\n",
        "                                      color='rgb(128, 0, 128)'),\n",
        "                            showarrow=False))\n",
        "    # labeling the bar net worth\n",
        "    annotations.append(dict(xref='x1', yref='y1',\n",
        "                            y=xd, x=yd+10 ,\n",
        "                            text=str(yd) + '%',\n",
        "                            font=dict(family='Arial', size=10,\n",
        "                                      color='rgb(50, 171, 96)'),\n",
        "                            showarrow=False))\n",
        "# Source\n",
        "annotations.append(dict(xref='paper', yref='paper',\n",
        "                        x=-0.2, y=-0.109,\n",
        "                        text=\"Mental health visualization\",\n",
        "                        font=dict(family='Arial', size=20, color='rgb(150,150,150)'),\n",
        "                        showarrow=False))\n",
        "\n",
        "fig.update_layout(annotations=annotations)\n",
        "\n",
        "fig.show()"
      ],
      "metadata": {
        "execution": {
          "iopub.status.busy": "2023-08-03T07:44:44.502322Z",
          "iopub.execute_input": "2023-08-03T07:44:44.502811Z",
          "iopub.status.idle": "2023-08-03T07:44:44.645505Z",
          "shell.execute_reply.started": "2023-08-03T07:44:44.502783Z",
          "shell.execute_reply": "2023-08-03T07:44:44.644149Z"
        },
        "trusted": true,
        "id": "bl9jRR5DbqtT"
      },
      "execution_count": null,
      "outputs": []
    },
    {
      "cell_type": "markdown",
      "source": [
        "# 7- Multiple Analysis"
      ],
      "metadata": {
        "id": "xAf9WfPdbqtX"
      }
    },
    {
      "cell_type": "code",
      "source": [
        "x = [\"Appetite change\", \"Average across symptoms\", \"Depressed mood\", \"Difficulty concentrating\", \"Loss of interest\",\n",
        "    \"Low energy\", \"Low self-esteem\", \"Psychomotor agitation\", \"Psychomotor agitation\", \"Sleep problems\", \"Suicidal ideation\"]\n",
        "\n",
        "fig = go.Figure()\n",
        "# Create and style traces\n",
        "fig.add_trace(go.Scatter(x=x, y=df3[\"Nearly every day\"], name='Nearly every day',\n",
        "                         line=dict(color='firebrick', width=4)))\n",
        "fig.add_trace(go.Scatter(x=x, y=df3[\"More than half the days\"], name = 'More than half the days',\n",
        "                         line=dict(color='royalblue', width=4)))\n",
        "fig.add_trace(go.Scatter(x=x, y=df3[\"Several days\"], name='Several days',\n",
        "                         line=dict(color='black', width=4,\n",
        "                              dash='dashdot') # dash options include 'dash', 'dot', and 'dashdot'\n",
        "))\n",
        "\n",
        "# Edit the layout\n",
        "fig.update_layout(title='Depressive symptoms across us population',\n",
        "                   xaxis_title='Entity',\n",
        "                   yaxis_title='Types of days')\n",
        "\n",
        "\n",
        "fig.show()"
      ],
      "metadata": {
        "execution": {
          "iopub.status.busy": "2023-08-03T07:44:44.647178Z",
          "iopub.execute_input": "2023-08-03T07:44:44.647709Z",
          "iopub.status.idle": "2023-08-03T07:44:44.669225Z",
          "shell.execute_reply.started": "2023-08-03T07:44:44.64767Z",
          "shell.execute_reply": "2023-08-03T07:44:44.668529Z"
        },
        "trusted": true,
        "id": "Oq2oB7E0bqtb"
      },
      "execution_count": null,
      "outputs": []
    },
    {
      "cell_type": "code",
      "source": [
        "x = [\"Alcohol use disorders\", \"Amphetamine use disorders\", \"Anorexia nervosa\", \"Anxiety disorders\",\n",
        "     \"Attention-deficit hyperactivity disorder\", \"Autism spectrum disorders\", \"Bipolar disorder\",\n",
        "     \"Bulimia nervosa\", \"Cannabis use disorders\", \"Cocaine use disorders\", \"Dysthymia\",\"Major depressive disorder\",\n",
        "    \"Opioid use disorders\", \"Other drug use disorders\", \"Personality disorders\"]\n",
        "\n",
        "fig = go.Figure()\n",
        "# Create and style traces\n",
        "fig.add_trace(go.Scatter(x=x, y=df4[\"Number of countries with primary data on prevalence of mental disorders\"],\n",
        "                         name='Nearly every day',\n",
        "                         line=dict(color='firebrick', width=4)))\n",
        "\n",
        "\n",
        "# Edit the layout\n",
        "fig.update_layout(title='mental illnesses in the global burden of disease study',\n",
        "                   xaxis_title='illnesses',\n",
        "                   yaxis_title='Number of countries')\n",
        "\n",
        "\n",
        "fig.show()"
      ],
      "metadata": {
        "execution": {
          "iopub.status.busy": "2023-08-03T07:44:44.67055Z",
          "iopub.execute_input": "2023-08-03T07:44:44.670857Z",
          "iopub.status.idle": "2023-08-03T07:44:44.687194Z",
          "shell.execute_reply.started": "2023-08-03T07:44:44.670829Z",
          "shell.execute_reply": "2023-08-03T07:44:44.686472Z"
        },
        "trusted": true,
        "id": "MzsGHQmdbqtc"
      },
      "execution_count": null,
      "outputs": []
    },
    {
      "cell_type": "markdown",
      "source": [
        "# 8- Rename Columns"
      ],
      "metadata": {
        "id": "H7ArFR6Gbqte"
      }
    },
    {
      "cell_type": "code",
      "source": [
        "df1_column_names = list(df1.columns.values)\n",
        "df1_column_names"
      ],
      "metadata": {
        "execution": {
          "iopub.status.busy": "2023-08-03T07:44:44.688242Z",
          "iopub.execute_input": "2023-08-03T07:44:44.689067Z",
          "iopub.status.idle": "2023-08-03T07:44:44.698548Z",
          "shell.execute_reply.started": "2023-08-03T07:44:44.688889Z",
          "shell.execute_reply": "2023-08-03T07:44:44.697757Z"
        },
        "trusted": true,
        "id": "bwrA5PzRbqtf"
      },
      "execution_count": null,
      "outputs": []
    },
    {
      "cell_type": "code",
      "source": [
        "df1 = df1.rename(columns={'Schizophrenia disorders (share of population) - Sex: Both - Age: Age-standardized': 'Schizophrenia disorders',\n",
        "                          'Depressive disorders (share of population) - Sex: Both - Age: Age-standardized': 'Depressive disorders',\n",
        "                         'Anxiety disorders (share of population) - Sex: Both - Age: Age-standardized':'Anxiety disorders',\n",
        "                         'Bipolar disorders (share of population) - Sex: Both - Age: Age-standardized':'Bipolar disorders',\n",
        "                         'Eating disorders (share of population) - Sex: Both - Age: Age-standardized':'Eating disorders'})"
      ],
      "metadata": {
        "execution": {
          "iopub.status.busy": "2023-08-03T07:44:44.699921Z",
          "iopub.execute_input": "2023-08-03T07:44:44.700801Z",
          "iopub.status.idle": "2023-08-03T07:44:44.714605Z",
          "shell.execute_reply.started": "2023-08-03T07:44:44.700761Z",
          "shell.execute_reply": "2023-08-03T07:44:44.713557Z"
        },
        "trusted": true,
        "id": "-DxOJgNcbqto"
      },
      "execution_count": null,
      "outputs": []
    },
    {
      "cell_type": "code",
      "source": [
        "df1"
      ],
      "metadata": {
        "execution": {
          "iopub.status.busy": "2023-08-03T07:44:44.716187Z",
          "iopub.execute_input": "2023-08-03T07:44:44.716988Z",
          "iopub.status.idle": "2023-08-03T07:44:44.746495Z",
          "shell.execute_reply.started": "2023-08-03T07:44:44.716951Z",
          "shell.execute_reply": "2023-08-03T07:44:44.745422Z"
        },
        "trusted": true,
        "id": "Q8_7uKNvbqtr"
      },
      "execution_count": null,
      "outputs": []
    },
    {
      "cell_type": "code",
      "source": [
        "df1_variables = df1[[\"Schizophrenia disorders\",\"Depressive disorders\",\"Anxiety disorders\",\"Bipolar disorders\",\n",
        "                       \"Eating disorders\"]]"
      ],
      "metadata": {
        "execution": {
          "iopub.status.busy": "2023-08-03T07:44:44.748262Z",
          "iopub.execute_input": "2023-08-03T07:44:44.749259Z",
          "iopub.status.idle": "2023-08-03T07:44:44.755841Z",
          "shell.execute_reply.started": "2023-08-03T07:44:44.749218Z",
          "shell.execute_reply": "2023-08-03T07:44:44.754887Z"
        },
        "trusted": true,
        "id": "IG46PGPubqtu"
      },
      "execution_count": null,
      "outputs": []
    },
    {
      "cell_type": "code",
      "source": [
        "df1_variables"
      ],
      "metadata": {
        "execution": {
          "iopub.status.busy": "2023-08-03T07:44:44.759187Z",
          "iopub.execute_input": "2023-08-03T07:44:44.759507Z",
          "iopub.status.idle": "2023-08-03T07:44:44.781728Z",
          "shell.execute_reply.started": "2023-08-03T07:44:44.759472Z",
          "shell.execute_reply": "2023-08-03T07:44:44.78047Z"
        },
        "trusted": true,
        "id": "LOjriITxbqtx"
      },
      "execution_count": null,
      "outputs": []
    },
    {
      "cell_type": "markdown",
      "source": [
        "# 9- Correlation"
      ],
      "metadata": {
        "id": "-x89EVCxbqtz"
      }
    },
    {
      "cell_type": "code",
      "source": [
        "Corrmat = df1_variables.corr()"
      ],
      "metadata": {
        "execution": {
          "iopub.status.busy": "2023-08-03T07:44:44.783616Z",
          "iopub.execute_input": "2023-08-03T07:44:44.784012Z",
          "iopub.status.idle": "2023-08-03T07:44:44.797397Z",
          "shell.execute_reply.started": "2023-08-03T07:44:44.783971Z",
          "shell.execute_reply": "2023-08-03T07:44:44.79655Z"
        },
        "trusted": true,
        "id": "eq7W2npDbqt0"
      },
      "execution_count": null,
      "outputs": []
    },
    {
      "cell_type": "code",
      "source": [
        "plt.figure(figsize=(10, 5), dpi=200)\n",
        "sns.heatmap(Corrmat, annot=True,fmt=\".2f\", linewidth=.5)"
      ],
      "metadata": {
        "execution": {
          "iopub.status.busy": "2023-08-03T07:44:44.798815Z",
          "iopub.execute_input": "2023-08-03T07:44:44.799473Z",
          "iopub.status.idle": "2023-08-03T07:44:45.452473Z",
          "shell.execute_reply.started": "2023-08-03T07:44:44.799407Z",
          "shell.execute_reply": "2023-08-03T07:44:45.451314Z"
        },
        "trusted": true,
        "id": "Z_i0Larqbqt2"
      },
      "execution_count": null,
      "outputs": []
    },
    {
      "cell_type": "markdown",
      "source": [
        "# 10- Scatter and Box plot"
      ],
      "metadata": {
        "id": "OXQi_W98bqt4"
      }
    },
    {
      "cell_type": "code",
      "source": [
        "fig, ((ax1, ax2), (ax3, ax4)) = plt.subplots(ncols=2,nrows=2,figsize= (15,10))\n",
        "\n",
        "ax1.set_title('Schizophrenia - Eating')\n",
        "sns.scatterplot(x=\"Schizophrenia disorders\", y=\"Eating disorders\", data=df1_variables, ax=ax1)\n",
        "\n",
        "ax2.set_title('Depressive - Eating')\n",
        "sns.scatterplot(x='Depressive disorders', y=\"Eating disorders\", data=df1_variables, ax=ax2)\n",
        "\n",
        "ax3.set_title('Anxiety - Eating')\n",
        "sns.scatterplot(x='Anxiety disorders', y=\"Eating disorders\", data=df1_variables, ax=ax3)\n",
        "\n",
        "ax4.set_title('Bipolar - Eating')\n",
        "sns.scatterplot(x='Bipolar disorders', y=\"Eating disorders\", data=df1_variables, ax=ax4)\n",
        "\n",
        "plt.tight_layout()"
      ],
      "metadata": {
        "execution": {
          "iopub.status.busy": "2023-08-03T07:44:45.454294Z",
          "iopub.execute_input": "2023-08-03T07:44:45.454635Z",
          "iopub.status.idle": "2023-08-03T07:44:46.938608Z",
          "shell.execute_reply.started": "2023-08-03T07:44:45.454605Z",
          "shell.execute_reply": "2023-08-03T07:44:46.937593Z"
        },
        "trusted": true,
        "id": "5G4s3PG9bqt-"
      },
      "execution_count": null,
      "outputs": []
    },
    {
      "cell_type": "code",
      "source": [
        "Numerical = ['Schizophrenia disorders', 'Depressive disorders','Anxiety disorders','Bipolar disorders','Eating disorders']\n",
        "i = 0\n",
        "while i < 5:\n",
        "    fig = plt.figure(figsize = [30,3], dpi=200)\n",
        "    plt.subplot(2,2,1)\n",
        "    sns.boxplot(x = Numerical[i], data = df1_variables)\n",
        "    i += 1\n",
        "    plt.show()"
      ],
      "metadata": {
        "execution": {
          "iopub.status.busy": "2023-08-03T07:44:46.93993Z",
          "iopub.execute_input": "2023-08-03T07:44:46.940983Z",
          "iopub.status.idle": "2023-08-03T07:44:47.90424Z",
          "shell.execute_reply.started": "2023-08-03T07:44:46.940943Z",
          "shell.execute_reply": "2023-08-03T07:44:47.902891Z"
        },
        "trusted": true,
        "id": "xEuVQ6xhbquA"
      },
      "execution_count": null,
      "outputs": []
    },
    {
      "cell_type": "markdown",
      "source": [
        "Creat model"
      ],
      "metadata": {
        "id": "ZAcTTwGfbquL"
      }
    },
    {
      "cell_type": "markdown",
      "source": [
        "# 11- Normalize"
      ],
      "metadata": {
        "id": "RlloXmGRbquM"
      }
    },
    {
      "cell_type": "code",
      "source": [
        "features = ['Schizophrenia disorders', 'Depressive disorders','Anxiety disorders','Bipolar disorders']\n",
        "X_model = df1[features]\n",
        "y_model = df1[\"Eating disorders\"]"
      ],
      "metadata": {
        "execution": {
          "iopub.status.busy": "2023-08-03T07:44:47.906127Z",
          "iopub.execute_input": "2023-08-03T07:44:47.906897Z",
          "iopub.status.idle": "2023-08-03T07:44:47.913316Z",
          "shell.execute_reply.started": "2023-08-03T07:44:47.906854Z",
          "shell.execute_reply": "2023-08-03T07:44:47.912176Z"
        },
        "trusted": true,
        "id": "do0TUcjmbquV"
      },
      "execution_count": null,
      "outputs": []
    },
    {
      "cell_type": "code",
      "source": [
        "scaler = preprocessing.MinMaxScaler()\n",
        "X_model_norm = scaler.fit_transform(X_model)"
      ],
      "metadata": {
        "execution": {
          "iopub.status.busy": "2023-08-03T07:44:47.915114Z",
          "iopub.execute_input": "2023-08-03T07:44:47.915547Z",
          "iopub.status.idle": "2023-08-03T07:44:47.931612Z",
          "shell.execute_reply.started": "2023-08-03T07:44:47.915508Z",
          "shell.execute_reply": "2023-08-03T07:44:47.930531Z"
        },
        "trusted": true,
        "id": "SEkgbsxZbquW"
      },
      "execution_count": null,
      "outputs": []
    },
    {
      "cell_type": "code",
      "source": [
        "X_model_norm"
      ],
      "metadata": {
        "execution": {
          "iopub.status.busy": "2023-08-03T07:44:47.933495Z",
          "iopub.execute_input": "2023-08-03T07:44:47.933936Z",
          "iopub.status.idle": "2023-08-03T07:44:47.943943Z",
          "shell.execute_reply.started": "2023-08-03T07:44:47.933899Z",
          "shell.execute_reply": "2023-08-03T07:44:47.942746Z"
        },
        "trusted": true,
        "id": "yLnjhbiqbqur"
      },
      "execution_count": null,
      "outputs": []
    },
    {
      "cell_type": "markdown",
      "source": [
        "# 12- Simple Linear Regression"
      ],
      "metadata": {
        "id": "o0mhRoUDbqu1"
      }
    },
    {
      "cell_type": "code",
      "source": [
        "X_train, X_test, y_train, y_test = train_test_split(X_model_norm, y_model, test_size=20, random_state=42)"
      ],
      "metadata": {
        "execution": {
          "iopub.status.busy": "2023-08-03T07:44:47.945739Z",
          "iopub.execute_input": "2023-08-03T07:44:47.946119Z",
          "iopub.status.idle": "2023-08-03T07:44:47.954129Z",
          "shell.execute_reply.started": "2023-08-03T07:44:47.946083Z",
          "shell.execute_reply": "2023-08-03T07:44:47.953118Z"
        },
        "trusted": true,
        "id": "k2Kzfwrnbqu3"
      },
      "execution_count": null,
      "outputs": []
    },
    {
      "cell_type": "code",
      "source": [
        "print(\"Shape of x_train : \", X_train.shape)\n",
        "print(\"Shape of y_train : \", y_train.shape)\n",
        "print(\"Shape of x_test : \", X_test.shape)\n",
        "print(\"Shape of y_test : \", y_test.shape)"
      ],
      "metadata": {
        "execution": {
          "iopub.status.busy": "2023-08-03T07:44:47.960801Z",
          "iopub.execute_input": "2023-08-03T07:44:47.961409Z",
          "iopub.status.idle": "2023-08-03T07:44:47.969782Z",
          "shell.execute_reply.started": "2023-08-03T07:44:47.961369Z",
          "shell.execute_reply": "2023-08-03T07:44:47.968483Z"
        },
        "trusted": true,
        "id": "zKSkeLu_bqu-"
      },
      "execution_count": null,
      "outputs": []
    },
    {
      "cell_type": "code",
      "source": [
        "Model = LinearRegression()\n",
        "Model.fit(X_train, y_train)"
      ],
      "metadata": {
        "execution": {
          "iopub.status.busy": "2023-08-03T07:44:47.971Z",
          "iopub.execute_input": "2023-08-03T07:44:47.972034Z",
          "iopub.status.idle": "2023-08-03T07:44:48.012324Z",
          "shell.execute_reply.started": "2023-08-03T07:44:47.971997Z",
          "shell.execute_reply": "2023-08-03T07:44:48.011298Z"
        },
        "trusted": true,
        "id": "S5fQsFXAbqvG"
      },
      "execution_count": null,
      "outputs": []
    },
    {
      "cell_type": "code",
      "source": [
        "y_pred = Model.predict(X_test)"
      ],
      "metadata": {
        "execution": {
          "iopub.status.busy": "2023-08-03T07:44:48.013579Z",
          "iopub.execute_input": "2023-08-03T07:44:48.013972Z",
          "iopub.status.idle": "2023-08-03T07:44:48.019376Z",
          "shell.execute_reply.started": "2023-08-03T07:44:48.013929Z",
          "shell.execute_reply": "2023-08-03T07:44:48.018477Z"
        },
        "trusted": true,
        "id": "NvII3yulbqvL"
      },
      "execution_count": null,
      "outputs": []
    },
    {
      "cell_type": "code",
      "source": [
        "print(\"Mean Absolute Error of Model is: \", metrics.mean_absolute_error(y_test,y_pred))\n",
        "print(\"Mean Squared Error of Model is: \", metrics.mean_squared_error(y_test,y_pred))\n",
        "print(\"Root Mean Squared of Model is: \", np.sqrt(metrics.mean_squared_error(y_test,y_pred)))\n",
        "print(\"R2 Score of Model is: \", metrics.r2_score(y_test,y_pred))"
      ],
      "metadata": {
        "execution": {
          "iopub.status.busy": "2023-08-03T07:44:48.020815Z",
          "iopub.execute_input": "2023-08-03T07:44:48.02141Z",
          "iopub.status.idle": "2023-08-03T07:44:48.037918Z",
          "shell.execute_reply.started": "2023-08-03T07:44:48.021374Z",
          "shell.execute_reply": "2023-08-03T07:44:48.036799Z"
        },
        "trusted": true,
        "id": "b4ee0zgebqvN"
      },
      "execution_count": null,
      "outputs": []
    },
    {
      "cell_type": "code",
      "source": [
        "k_fold = KFold(10)\n",
        "print (cross_val_score(Model, X_model_norm, y_model.ravel(), cv=k_fold, n_jobs=1))"
      ],
      "metadata": {
        "execution": {
          "iopub.status.busy": "2023-08-03T07:44:48.039365Z",
          "iopub.execute_input": "2023-08-03T07:44:48.039977Z",
          "iopub.status.idle": "2023-08-03T07:44:48.080169Z",
          "shell.execute_reply.started": "2023-08-03T07:44:48.039941Z",
          "shell.execute_reply": "2023-08-03T07:44:48.079492Z"
        },
        "trusted": true,
        "id": "xPM01IkHbqvP"
      },
      "execution_count": null,
      "outputs": []
    },
    {
      "cell_type": "markdown",
      "source": [
        "# 13- Higher Dimension Linear Regression"
      ],
      "metadata": {
        "id": "iVeJ7-bBbqvS"
      }
    },
    {
      "cell_type": "code",
      "source": [
        "def check(Dimension, testsize):\n",
        "    r2 = 0.6289\n",
        "    for column in X_model:\n",
        "        New_Col_name = column + str(Dimension)\n",
        "        New_Col_value = X_model[column]**Dimension\n",
        "        X_model.insert(0, New_Col_name, New_Col_value)\n",
        "        X_train, X_test, y_train, y_test = train_test_split(X_model, y_model,test_size=testsize,random_state=0)\n",
        "        New_model = LinearRegression()\n",
        "        New_model.fit(X_train, y_train)\n",
        "        y_pred = New_model.predict (X_test)\n",
        "        r2_new = metrics.r2_score(y_test, y_pred)\n",
        "        if r2_new < r2:\n",
        "            X_model.drop([New_Col_name], axis=1, inplace=True)\n",
        "        else:\n",
        "            r2 = r2_new\n",
        "\n",
        "    print(\"R2 score is: \", r2)\n",
        "check(2,0.2)"
      ],
      "metadata": {
        "execution": {
          "iopub.status.busy": "2023-08-03T07:44:48.08126Z",
          "iopub.execute_input": "2023-08-03T07:44:48.081718Z",
          "iopub.status.idle": "2023-08-03T07:44:48.126256Z",
          "shell.execute_reply.started": "2023-08-03T07:44:48.081689Z",
          "shell.execute_reply": "2023-08-03T07:44:48.124831Z"
        },
        "trusted": true,
        "id": "FGjkdu9NbqvX"
      },
      "execution_count": null,
      "outputs": []
    },
    {
      "cell_type": "code",
      "source": [
        "X_model"
      ],
      "metadata": {
        "execution": {
          "iopub.status.busy": "2023-08-03T07:44:48.127848Z",
          "iopub.execute_input": "2023-08-03T07:44:48.129484Z",
          "iopub.status.idle": "2023-08-03T07:44:48.177295Z",
          "shell.execute_reply.started": "2023-08-03T07:44:48.12942Z",
          "shell.execute_reply": "2023-08-03T07:44:48.176005Z"
        },
        "trusted": true,
        "id": "omkkRsjIbqva"
      },
      "execution_count": null,
      "outputs": []
    },
    {
      "cell_type": "markdown",
      "source": [
        "# 14- Dot Model"
      ],
      "metadata": {
        "id": "g_l1Xu_Nbqvc"
      }
    },
    {
      "cell_type": "code",
      "source": [
        "Bipolar_Anx = X_model[\"Bipolar disorders\"]*X_model[\"Anxiety disorders\"]\n",
        "Bipolar_Anx2 = X_model[\"Bipolar disorders2\"]*X_model[\"Anxiety disorders2\"]\n",
        "Dep_Schi = X_model[\"Depressive disorders\"]* X_model[\"Schizophrenia disorders\"]\n",
        "Dep_Schi2 = X_model[\"Depressive disorders2\"]* X_model[\"Schizophrenia disorders2\"]"
      ],
      "metadata": {
        "execution": {
          "iopub.status.busy": "2023-08-03T07:44:48.180606Z",
          "iopub.execute_input": "2023-08-03T07:44:48.18214Z",
          "iopub.status.idle": "2023-08-03T07:44:48.195775Z",
          "shell.execute_reply.started": "2023-08-03T07:44:48.182096Z",
          "shell.execute_reply": "2023-08-03T07:44:48.194711Z"
        },
        "trusted": true,
        "id": "YR3L4mefbqvd"
      },
      "execution_count": null,
      "outputs": []
    },
    {
      "cell_type": "code",
      "source": [
        "X_model.insert(0, \"Bipolar_Anx\", Bipolar_Anx)\n",
        "X_model.insert(0, \"Bipolar_Anx2\", Bipolar_Anx2)\n",
        "X_model.insert(0, \"Dep_Schi\", Dep_Schi)\n",
        "X_model.insert(0, \"Dep_Schi2\", Dep_Schi2)"
      ],
      "metadata": {
        "execution": {
          "iopub.status.busy": "2023-08-03T07:44:48.197839Z",
          "iopub.execute_input": "2023-08-03T07:44:48.199751Z",
          "iopub.status.idle": "2023-08-03T07:44:48.217308Z",
          "shell.execute_reply.started": "2023-08-03T07:44:48.199702Z",
          "shell.execute_reply": "2023-08-03T07:44:48.216324Z"
        },
        "trusted": true,
        "id": "ZMeS3HTubqve"
      },
      "execution_count": null,
      "outputs": []
    },
    {
      "cell_type": "code",
      "source": [
        "X_train, X_test, y_train, y_test = train_test_split(X_model, y_model,test_size=0.2,random_state=0)\n",
        "Model = LinearRegression()\n",
        "Model.fit(X_train, y_train)\n",
        "y_pred = Model.predict(X_test)\n",
        "r2 = metrics.r2_score(y_test, y_pred)\n",
        "r2"
      ],
      "metadata": {
        "execution": {
          "iopub.status.busy": "2023-08-03T07:44:48.218802Z",
          "iopub.execute_input": "2023-08-03T07:44:48.219409Z",
          "iopub.status.idle": "2023-08-03T07:44:48.278513Z",
          "shell.execute_reply.started": "2023-08-03T07:44:48.219366Z",
          "shell.execute_reply": "2023-08-03T07:44:48.277491Z"
        },
        "trusted": true,
        "id": "6TFHvDGWbqvf"
      },
      "execution_count": null,
      "outputs": []
    },
    {
      "cell_type": "markdown",
      "source": [
        "# 15- Display Model's Output"
      ],
      "metadata": {
        "id": "yryoHhWYbqvj"
      }
    },
    {
      "cell_type": "code",
      "source": [
        "a = X_test[\"Bipolar disorders\"]\n",
        "b = y_test\n",
        "c = X_test[\"Bipolar disorders\"]\n",
        "d = y_pred"
      ],
      "metadata": {
        "execution": {
          "iopub.status.busy": "2023-08-03T07:44:48.280101Z",
          "iopub.execute_input": "2023-08-03T07:44:48.280917Z",
          "iopub.status.idle": "2023-08-03T07:44:48.294782Z",
          "shell.execute_reply.started": "2023-08-03T07:44:48.28088Z",
          "shell.execute_reply": "2023-08-03T07:44:48.293187Z"
        },
        "trusted": true,
        "id": "ozlf35t8bqvm"
      },
      "execution_count": null,
      "outputs": []
    },
    {
      "cell_type": "code",
      "source": [
        "font1 = {'family':'fantasy','color':'blue','size':20}\n",
        "font2 = {'family':'serif','color':'darkred','size':20}\n",
        "font3 = {'family':'cursive','color':'green','size':20}"
      ],
      "metadata": {
        "execution": {
          "iopub.status.busy": "2023-08-03T07:44:48.29997Z",
          "iopub.execute_input": "2023-08-03T07:44:48.303845Z",
          "iopub.status.idle": "2023-08-03T07:44:48.313024Z",
          "shell.execute_reply.started": "2023-08-03T07:44:48.3038Z",
          "shell.execute_reply": "2023-08-03T07:44:48.311897Z"
        },
        "trusted": true,
        "id": "CF1UIZOjbqvp"
      },
      "execution_count": null,
      "outputs": []
    },
    {
      "cell_type": "code",
      "source": [
        "plt.figure(figsize= (20,10), dpi=200)\n",
        "plt.title(\"Bipolar Prediction\",fontdict=font2)\n",
        "plt.xlabel(\"Bipolar\",fontdict= font3)\n",
        "plt.ylabel(\"Eating\",fontdict=font1)\n",
        "plt.xticks(fontsize=15)\n",
        "plt.yticks(fontsize=15)\n",
        "plt.scatter(a,b, color = 'blue', label = \"Real Values\")\n",
        "plt.scatter(c,d, color = 'maroon', label = \"Predicted Values\", marker=\"H\", s=80)\n",
        "plt.legend(fontsize=15)\n",
        "plt.show()"
      ],
      "metadata": {
        "execution": {
          "iopub.status.busy": "2023-08-03T07:44:48.319505Z",
          "iopub.execute_input": "2023-08-03T07:44:48.323589Z",
          "iopub.status.idle": "2023-08-03T07:44:49.216641Z",
          "shell.execute_reply.started": "2023-08-03T07:44:48.32354Z",
          "shell.execute_reply": "2023-08-03T07:44:49.215495Z"
        },
        "trusted": true,
        "id": "yUXZiuvebqvq"
      },
      "execution_count": null,
      "outputs": []
    },
    {
      "cell_type": "code",
      "source": [
        "a1 = X_test[\"Schizophrenia disorders\"]\n",
        "b1 = y_test\n",
        "c1 = X_test[\"Schizophrenia disorders\"]\n",
        "d1 = y_pred"
      ],
      "metadata": {
        "execution": {
          "iopub.status.busy": "2023-08-03T07:44:49.217967Z",
          "iopub.execute_input": "2023-08-03T07:44:49.218341Z",
          "iopub.status.idle": "2023-08-03T07:44:49.224823Z",
          "shell.execute_reply.started": "2023-08-03T07:44:49.218308Z",
          "shell.execute_reply": "2023-08-03T07:44:49.223691Z"
        },
        "trusted": true,
        "id": "tV8ySIuQbqvr"
      },
      "execution_count": null,
      "outputs": []
    },
    {
      "cell_type": "code",
      "source": [
        "plt.figure(figsize= (20,10), dpi=200)\n",
        "plt.title(\"Schizophrenia Prediction\",fontdict=font2)\n",
        "plt.xlabel(\"Schizophrenia\",fontdict= font3)\n",
        "plt.ylabel(\"Eating\",fontdict=font1)\n",
        "plt.xticks(fontsize=15)\n",
        "plt.yticks(fontsize=15)\n",
        "plt.scatter(a1,b1, color = 'blue', label = \"Real Values\")\n",
        "plt.scatter(c1,d1, color = 'Orange', label = \"Predicted Values\", marker=\"H\", s=80)\n",
        "plt.legend(fontsize=15)\n",
        "plt.show()"
      ],
      "metadata": {
        "execution": {
          "iopub.status.busy": "2023-08-03T07:44:49.226324Z",
          "iopub.execute_input": "2023-08-03T07:44:49.226756Z",
          "iopub.status.idle": "2023-08-03T07:44:50.076256Z",
          "shell.execute_reply.started": "2023-08-03T07:44:49.226717Z",
          "shell.execute_reply": "2023-08-03T07:44:50.075361Z"
        },
        "trusted": true,
        "id": "DiYI_9tobqvs"
      },
      "execution_count": null,
      "outputs": []
    },
    {
      "cell_type": "code",
      "source": [
        "a2 = X_test[\"Anxiety disorders\"]\n",
        "b2 = y_test\n",
        "c2 = X_test[\"Anxiety disorders\"]\n",
        "d2 = y_pred"
      ],
      "metadata": {
        "execution": {
          "iopub.status.busy": "2023-08-03T07:44:50.077536Z",
          "iopub.execute_input": "2023-08-03T07:44:50.077836Z",
          "iopub.status.idle": "2023-08-03T07:44:50.083212Z",
          "shell.execute_reply.started": "2023-08-03T07:44:50.07781Z",
          "shell.execute_reply": "2023-08-03T07:44:50.082083Z"
        },
        "trusted": true,
        "id": "AJv_ue8obqvx"
      },
      "execution_count": null,
      "outputs": []
    },
    {
      "cell_type": "code",
      "source": [
        "plt.figure(figsize= (20,10), dpi=200)\n",
        "plt.title(\"Anxiety Prediction\",fontdict=font2)\n",
        "plt.xlabel(\"Anxiety\",fontdict= font3)\n",
        "plt.ylabel(\"Eating\",fontdict=font1)\n",
        "plt.xticks(fontsize=15)\n",
        "plt.yticks(fontsize=15)\n",
        "plt.scatter(a2,b2, color = 'blue', label = \"Real Values\")\n",
        "plt.scatter(c2,d2, color = 'indigo', label = \"Predicted Values\", marker=\"H\", s=80)\n",
        "plt.legend(fontsize=15)\n",
        "plt.show()"
      ],
      "metadata": {
        "execution": {
          "iopub.status.busy": "2023-08-03T07:44:50.084497Z",
          "iopub.execute_input": "2023-08-03T07:44:50.084789Z",
          "iopub.status.idle": "2023-08-03T07:44:50.911351Z",
          "shell.execute_reply.started": "2023-08-03T07:44:50.084763Z",
          "shell.execute_reply": "2023-08-03T07:44:50.910527Z"
        },
        "trusted": true,
        "id": "mo4cdzRFbqvz"
      },
      "execution_count": null,
      "outputs": []
    },
    {
      "cell_type": "code",
      "source": [
        "a3 = X_test[\"Depressive disorders\"]\n",
        "b3 = y_test\n",
        "c3 = X_test[\"Depressive disorders\"]\n",
        "d3 = y_pred"
      ],
      "metadata": {
        "execution": {
          "iopub.status.busy": "2023-08-03T07:44:50.912552Z",
          "iopub.execute_input": "2023-08-03T07:44:50.913398Z",
          "iopub.status.idle": "2023-08-03T07:44:50.91827Z",
          "shell.execute_reply.started": "2023-08-03T07:44:50.913365Z",
          "shell.execute_reply": "2023-08-03T07:44:50.917238Z"
        },
        "trusted": true,
        "id": "EomQtMufbqv0"
      },
      "execution_count": null,
      "outputs": []
    },
    {
      "cell_type": "code",
      "source": [
        "plt.figure(figsize= (20,10), dpi=200)\n",
        "plt.title(\"Depressive Prediction\",fontdict=font2)\n",
        "plt.xlabel(\"Depressive\",fontdict= font3)\n",
        "plt.ylabel(\"Eating\",fontdict=font1)\n",
        "plt.xticks(fontsize=15)\n",
        "plt.yticks(fontsize=15)\n",
        "plt.scatter(a3,b3, color = 'blue', label = \"Real Values\")\n",
        "plt.scatter(c3,d3, color = 'green', label = \"Predicted Values\", marker=\"H\", s=80)\n",
        "plt.legend(fontsize=15)\n",
        "plt.show()"
      ],
      "metadata": {
        "execution": {
          "iopub.status.busy": "2023-08-03T07:44:50.919391Z",
          "iopub.execute_input": "2023-08-03T07:44:50.919727Z",
          "iopub.status.idle": "2023-08-03T07:44:51.761514Z",
          "shell.execute_reply.started": "2023-08-03T07:44:50.9197Z",
          "shell.execute_reply": "2023-08-03T07:44:51.760498Z"
        },
        "trusted": true,
        "id": "UIqimKY6bqv2"
      },
      "execution_count": null,
      "outputs": []
    },
    {
      "cell_type": "markdown",
      "source": [
        "# 16- Conclusion"
      ],
      "metadata": {
        "id": "WBBQDObgbqv4"
      }
    },
    {
      "cell_type": "markdown",
      "source": [
        "<div style=\"color:white;\n",
        "           display:fill;\n",
        "           border-radius:100px;\n",
        "           background-color:#5642C5;\n",
        "           font-size:120%;\n",
        "           font-family:Verdana;\n",
        "           letter-spacing:0.5px\">\n",
        "\n",
        "<p style=\"padding: 50px;\n",
        "              color:white;\">As we have seen, the maximum regression accuracy for this model was almost 70%. Since correlation between variables is very important in a regression project, perhaps the required correlation was not present in this dataset. I think the use of clustering and PCA or even SOM can give a good result in this data set.\n",
        "thank you for your attention.\n",
        "If this notebook was useful for you, please vote for this notebook. Good luck✔\n",
        "\n",
        "</p>\n",
        "</div>\n"
      ],
      "metadata": {
        "id": "pxc2-Vjbbqv6"
      }
    },
    {
      "cell_type": "code",
      "source": [],
      "metadata": {
        "id": "fyKJVp2kbqv_"
      },
      "execution_count": null,
      "outputs": []
    }
  ]
}